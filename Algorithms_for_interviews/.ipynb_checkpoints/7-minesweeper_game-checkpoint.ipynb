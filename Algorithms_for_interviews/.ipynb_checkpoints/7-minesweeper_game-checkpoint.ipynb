{
 "cells": [
  {
   "cell_type": "markdown",
   "id": "b84c0fbc",
   "metadata": {},
   "source": [
    "0- function takes 3 args (bombs, num_rows, num_cols) --> bombs nested list\n",
    "\n",
    "1- create field of zeros with nested loops of rows and cols\n",
    "\n",
    "2- loop through bombs and add (x,y) location for it\n",
    "\n",
    "3- in the loop update the field in bombs location to -1 instead of 0\n",
    "\n",
    "4- create row_range, col_range for the three cells around the bomb\n",
    "\n",
    "5- nested loop through the row_range, col_range\n",
    "\n",
    "6- if 0<=i<num_rows and 0<=j<num_cols and field [i] [j] not a bomb\n",
    "\n",
    "7- field [i] [j] +=1\n",
    "\n",
    "8- return field"
   ]
  },
  {
   "cell_type": "code",
   "execution_count": 18,
   "id": "a19278d8",
   "metadata": {
    "ExecuteTime": {
     "end_time": "2022-11-16T10:47:35.146221Z",
     "start_time": "2022-11-16T10:47:35.129247Z"
    }
   },
   "outputs": [],
   "source": [
    "def mine_sweeper(bombs, num_rows, num_cols):\n",
    "    # nested loop to create field\n",
    "    field = [[0 for i in range(num_cols)] for j in range(num_rows)]\n",
    "    # find bombs location and update field with it\n",
    "    for bomb_location in bombs:\n",
    "        (x, y) = bomb_location\n",
    "        field[x][y] = -1\n",
    "        # get the ranges of the 3 cells around each cell to update how many bombs around it\n",
    "        row_range = range(x - 1, x + 2)\n",
    "        col_range = range(y - 1, y + 2)\n",
    "        # nested loop to go through each cell\n",
    "        for i in row_range:\n",
    "            for j in col_range:\n",
    "                # check if the cell is in field and if its not a bomb\n",
    "                if (0<=i<num_rows and 0<=j<num_cols and field[i][j] != -1):\n",
    "                    # add 1 each time there is bomb around it\n",
    "                    field[i][j] += 1\n",
    "\n",
    "    return field"
   ]
  },
  {
   "cell_type": "code",
   "execution_count": 19,
   "id": "4687a6be",
   "metadata": {
    "ExecuteTime": {
     "end_time": "2022-11-16T10:47:36.806218Z",
     "start_time": "2022-11-16T10:47:36.793227Z"
    }
   },
   "outputs": [
    {
     "name": "stdout",
     "output_type": "stream",
     "text": [
      "[[-1, 2, 1, 1], [1, 2, -1, 1], [0, 1, 1, 1]]\n"
     ]
    }
   ],
   "source": [
    "print(mine_sweeper([[0,0],[1,2]], 3, 4))"
   ]
  },
  {
   "cell_type": "code",
   "execution_count": 22,
   "id": "51749c5b",
   "metadata": {
    "ExecuteTime": {
     "end_time": "2022-11-15T01:46:43.199127Z",
     "start_time": "2022-11-15T01:46:43.190131Z"
    }
   },
   "outputs": [
    {
     "name": "stdout",
     "output_type": "stream",
     "text": [
      "[[-1, 2, 2, -1, 1], [2, 3, -1, 2, 1], [1, -1, 2, 2, 1], [1, 1, 1, 1, -1]]\n"
     ]
    }
   ],
   "source": [
    "print(mine_sweeper([[0,0],[1,2], [2,1], [0,3],[3,4]], 4, 5))"
   ]
  },
  {
   "cell_type": "code",
   "execution_count": 25,
   "id": "3454fdd1",
   "metadata": {
    "ExecuteTime": {
     "end_time": "2022-11-16T10:49:40.709476Z",
     "start_time": "2022-11-16T10:49:40.696481Z"
    }
   },
   "outputs": [],
   "source": [
    "def mine_sweeper1(bombs, num_rows, num_cols):\n",
    "    # create the field\n",
    "    field = [[0 for i in range(num_cols)] for j in range(num_rows)]\n",
    "    # spot bombs location\n",
    "    for location in bombs:\n",
    "        (x, y) = location\n",
    "        field[x][y] = \"bomb\"\n",
    "    \n",
    "        row_range = range(x - 1, x + 2)\n",
    "        col_range = range(y - 1, y + 2)\n",
    "        for i in row_range:\n",
    "            for j in col_range:\n",
    "                if (0<=i<num_rows and 0<=j<num_cols and field[i][j] != 'bomb'):\n",
    "                    field[i][j] += 1\n",
    "    return field"
   ]
  },
  {
   "cell_type": "code",
   "execution_count": 26,
   "id": "50027600",
   "metadata": {
    "ExecuteTime": {
     "end_time": "2022-11-16T10:49:43.500174Z",
     "start_time": "2022-11-16T10:49:43.480186Z"
    }
   },
   "outputs": [
    {
     "name": "stdout",
     "output_type": "stream",
     "text": [
      "[['bomb', 2, 1, 1], [1, 2, 'bomb', 1], [0, 1, 1, 1]]\n"
     ]
    }
   ],
   "source": [
    "print(mine_sweeper1([[0,0],[1,2]], 3, 4))"
   ]
  },
  {
   "cell_type": "code",
   "execution_count": null,
   "id": "df0076f8",
   "metadata": {},
   "outputs": [],
   "source": []
  }
 ],
 "metadata": {
  "kernelspec": {
   "display_name": "Python 3 (ipykernel)",
   "language": "python",
   "name": "python3"
  },
  "language_info": {
   "codemirror_mode": {
    "name": "ipython",
    "version": 3
   },
   "file_extension": ".py",
   "mimetype": "text/x-python",
   "name": "python",
   "nbconvert_exporter": "python",
   "pygments_lexer": "ipython3",
   "version": "3.9.7"
  },
  "varInspector": {
   "cols": {
    "lenName": 16,
    "lenType": 16,
    "lenVar": 40
   },
   "kernels_config": {
    "python": {
     "delete_cmd_postfix": "",
     "delete_cmd_prefix": "del ",
     "library": "var_list.py",
     "varRefreshCmd": "print(var_dic_list())"
    },
    "r": {
     "delete_cmd_postfix": ") ",
     "delete_cmd_prefix": "rm(",
     "library": "var_list.r",
     "varRefreshCmd": "cat(var_dic_list()) "
    }
   },
   "types_to_exclude": [
    "module",
    "function",
    "builtin_function_or_method",
    "instance",
    "_Feature"
   ],
   "window_display": false
  }
 },
 "nbformat": 4,
 "nbformat_minor": 5
}
