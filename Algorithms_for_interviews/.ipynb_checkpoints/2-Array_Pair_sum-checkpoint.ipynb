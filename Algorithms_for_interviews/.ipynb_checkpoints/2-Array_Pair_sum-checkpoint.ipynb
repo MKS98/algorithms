{
 "cells": [
  {
   "cell_type": "markdown",
   "id": "e07e127f",
   "metadata": {},
   "source": [
    "### pseudocode:"
   ]
  },
  {
   "cell_type": "markdown",
   "id": "aae3fed2",
   "metadata": {},
   "source": [
    "1- the exception : if array length less than 2 reject input\n",
    "\n",
    "2- create two sets\n",
    "\n",
    "3- loop over the array\n",
    "\n",
    "4- in the loop create variable (target) to store the k - num\n",
    "\n",
    "5- if target not in first set then add it\n",
    "\n",
    "6- else add both the target and num to the output set\n",
    "\n",
    "7- print the output"
   ]
  },
  {
   "cell_type": "code",
   "execution_count": 1,
   "id": "b5253a1a",
   "metadata": {
    "ExecuteTime": {
     "end_time": "2022-10-31T11:51:26.675138Z",
     "start_time": "2022-10-31T11:51:26.664147Z"
    }
   },
   "outputs": [],
   "source": [
    "def pair_sum(array, k):\n",
    "    if len(array) < 2:\n",
    "        return print('Too Small')\n",
    "    seen = set()\n",
    "    output = set()\n",
    "    \n",
    "    for num in array:\n",
    "        target = k - num\n",
    "        if target not in seen:\n",
    "            seen.add(num)\n",
    "        else:\n",
    "            output.add((min(num, target),max(num, target)))\n",
    "    \n",
    "    print('\\n'.join(map(str, list(output))))\n",
    "    "
   ]
  },
  {
   "cell_type": "code",
   "execution_count": 9,
   "id": "54286797",
   "metadata": {
    "ExecuteTime": {
     "end_time": "2022-11-05T11:58:28.928472Z",
     "start_time": "2022-11-05T11:58:28.910107Z"
    }
   },
   "outputs": [
    {
     "name": "stdout",
     "output_type": "stream",
     "text": [
      "(1, 3)\n",
      "(2, 2)\n"
     ]
    }
   ],
   "source": [
    "pair_sum([1,2,3,2], 4)"
   ]
  },
  {
   "cell_type": "code",
   "execution_count": null,
   "id": "997009aa",
   "metadata": {},
   "outputs": [],
   "source": []
  }
 ],
 "metadata": {
  "kernelspec": {
   "display_name": "Python 3 (ipykernel)",
   "language": "python",
   "name": "python3"
  },
  "language_info": {
   "codemirror_mode": {
    "name": "ipython",
    "version": 3
   },
   "file_extension": ".py",
   "mimetype": "text/x-python",
   "name": "python",
   "nbconvert_exporter": "python",
   "pygments_lexer": "ipython3",
   "version": "3.9.7"
  },
  "varInspector": {
   "cols": {
    "lenName": 16,
    "lenType": 16,
    "lenVar": 40
   },
   "kernels_config": {
    "python": {
     "delete_cmd_postfix": "",
     "delete_cmd_prefix": "del ",
     "library": "var_list.py",
     "varRefreshCmd": "print(var_dic_list())"
    },
    "r": {
     "delete_cmd_postfix": ") ",
     "delete_cmd_prefix": "rm(",
     "library": "var_list.r",
     "varRefreshCmd": "cat(var_dic_list()) "
    }
   },
   "types_to_exclude": [
    "module",
    "function",
    "builtin_function_or_method",
    "instance",
    "_Feature"
   ],
   "window_display": false
  }
 },
 "nbformat": 4,
 "nbformat_minor": 5
}
