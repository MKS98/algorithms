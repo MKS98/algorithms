{
 "cells": [
  {
   "cell_type": "markdown",
   "id": "2f072bb7",
   "metadata": {},
   "source": [
    "1- create one pointer for each list\n",
    "\n",
    "2- create empty list to store common elements\n",
    "\n",
    "3- use while to itr over both lists until their length\n",
    "\n",
    "4- if a[p1] == b[p2] append and += p1,p2\n",
    "\n",
    "5- if a[p1] > b[p2] += p2\n",
    "\n",
    "6- if a[p1] < b[p2] += p1\n",
    "\n",
    "7- return the common list"
   ]
  },
  {
   "cell_type": "code",
   "execution_count": 14,
   "id": "2242c53c",
   "metadata": {
    "ExecuteTime": {
     "end_time": "2022-11-15T00:47:29.746628Z",
     "start_time": "2022-11-15T00:47:29.728639Z"
    }
   },
   "outputs": [],
   "source": [
    "def common_elements(a, b):\n",
    "    a = sorted(a)\n",
    "    b = sorted(b)\n",
    "    p1 = 0\n",
    "    p2 = 0\n",
    "    result = []\n",
    "    \n",
    "    while p1 < len(a) and p2 < len(b):\n",
    "        if a[p1] == b[p2]:\n",
    "            result.append(a[p1])\n",
    "            p1+=1\n",
    "            p2+=1\n",
    "        elif a[p1] > b[p2]:\n",
    "            p2+=1\n",
    "        else:\n",
    "            p1+=1\n",
    "    return result"
   ]
  },
  {
   "cell_type": "code",
   "execution_count": 20,
   "id": "f584dc0e",
   "metadata": {
    "ExecuteTime": {
     "end_time": "2022-11-15T00:47:46.839578Z",
     "start_time": "2022-11-15T00:47:46.832586Z"
    }
   },
   "outputs": [
    {
     "name": "stdout",
     "output_type": "stream",
     "text": [
      "[1, 4, 9, 11]\n"
     ]
    }
   ],
   "source": [
    "print(common_elements([1,3,4,6,7,9,11], [1,2,4,5,9,10,11]))"
   ]
  },
  {
   "cell_type": "code",
   "execution_count": 16,
   "id": "f89ce25c",
   "metadata": {
    "ExecuteTime": {
     "end_time": "2022-11-15T00:47:40.110600Z",
     "start_time": "2022-11-15T00:47:40.096606Z"
    }
   },
   "outputs": [],
   "source": [
    "def common_elements2(a, b):\n",
    "    a = sorted(a)\n",
    "    b = sorted(b)\n",
    "    result = []\n",
    "    for i in range(len(a)):\n",
    "        for j in range(len(b)):\n",
    "            if a[i] == b[j]:\n",
    "                result.append(a[i])\n",
    "    return result"
   ]
  },
  {
   "cell_type": "code",
   "execution_count": 21,
   "id": "7111f738",
   "metadata": {
    "ExecuteTime": {
     "end_time": "2022-11-15T00:47:47.878579Z",
     "start_time": "2022-11-15T00:47:47.872585Z"
    }
   },
   "outputs": [
    {
     "name": "stdout",
     "output_type": "stream",
     "text": [
      "[1, 4, 9, 11]\n"
     ]
    }
   ],
   "source": [
    "print(common_elements2([1,3,4,6,7,9,11], [1,2,4,5,9,10,11]))"
   ]
  },
  {
   "cell_type": "code",
   "execution_count": null,
   "id": "dfb7bfd2",
   "metadata": {},
   "outputs": [],
   "source": []
  }
 ],
 "metadata": {
  "kernelspec": {
   "display_name": "Python 3 (ipykernel)",
   "language": "python",
   "name": "python3"
  },
  "language_info": {
   "codemirror_mode": {
    "name": "ipython",
    "version": 3
   },
   "file_extension": ".py",
   "mimetype": "text/x-python",
   "name": "python",
   "nbconvert_exporter": "python",
   "pygments_lexer": "ipython3",
   "version": "3.9.7"
  },
  "varInspector": {
   "cols": {
    "lenName": 16,
    "lenType": 16,
    "lenVar": 40
   },
   "kernels_config": {
    "python": {
     "delete_cmd_postfix": "",
     "delete_cmd_prefix": "del ",
     "library": "var_list.py",
     "varRefreshCmd": "print(var_dic_list())"
    },
    "r": {
     "delete_cmd_postfix": ") ",
     "delete_cmd_prefix": "rm(",
     "library": "var_list.r",
     "varRefreshCmd": "cat(var_dic_list()) "
    }
   },
   "types_to_exclude": [
    "module",
    "function",
    "builtin_function_or_method",
    "instance",
    "_Feature"
   ],
   "window_display": false
  }
 },
 "nbformat": 4,
 "nbformat_minor": 5
}
