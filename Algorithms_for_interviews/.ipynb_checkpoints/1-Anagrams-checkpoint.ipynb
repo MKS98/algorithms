{
 "cells": [
  {
   "cell_type": "markdown",
   "id": "cd38e848",
   "metadata": {},
   "source": [
    "## Problem"
   ]
  },
  {
   "cell_type": "markdown",
   "id": "1e87fff7",
   "metadata": {},
   "source": [
    "Given two strings, check to see if they are anagrams, an anagram is when the two strings can be written using the exact same letters (so you can just rearrange the letters to get a different phrase or word).\n",
    "\n",
    "For example:\n",
    "\n",
    "'public relations' is an anagram of 'crap built on lies'\n",
    "\n",
    "Note: Ignore spaces and capitalization. so 'd go' is an anagram of 'God', 'dog' and 'o d g'"
   ]
  },
  {
   "cell_type": "markdown",
   "id": "4f14a92a",
   "metadata": {},
   "source": [
    "#### 1st solution (not best bcz we use python built in modules)"
   ]
  },
  {
   "cell_type": "markdown",
   "id": "3f07ac35",
   "metadata": {},
   "source": [
    "###### 1st pseudocode:\n",
    "\n",
    "1- use replace to remove spaces\n",
    "\n",
    "2- make all char to lowercase\n",
    "\n",
    "3- sort both str then check if they are both equal"
   ]
  },
  {
   "cell_type": "code",
   "execution_count": 1,
   "id": "ae852535",
   "metadata": {
    "ExecuteTime": {
     "end_time": "2022-10-21T14:12:30.015323Z",
     "start_time": "2022-10-21T14:12:30.008323Z"
    }
   },
   "outputs": [],
   "source": [
    "def anagram(s1,s2):\n",
    "    # Remove spaces and lowercase letters\n",
    "    s1 = s1.replace(' ', '').lower()\n",
    "    s2 = s2.replace(' ', '').lower()\n",
    "    \n",
    "    # Return boolean for sorted match\n",
    "    return sorted(s1) == sorted(s2)"
   ]
  },
  {
   "cell_type": "code",
   "execution_count": 4,
   "id": "27015885",
   "metadata": {
    "ExecuteTime": {
     "end_time": "2022-10-21T14:13:51.826971Z",
     "start_time": "2022-10-21T14:13:51.810980Z"
    }
   },
   "outputs": [
    {
     "name": "stdout",
     "output_type": "stream",
     "text": [
      "True\n",
      "True\n",
      "False\n"
     ]
    }
   ],
   "source": [
    "print(anagram('god', 'dog'))\n",
    "print(anagram('clint eastwood', 'old west action'))\n",
    "print(anagram('aa','bb'))"
   ]
  },
  {
   "cell_type": "markdown",
   "id": "68c75de7",
   "metadata": {},
   "source": [
    "#### solution with count and dectionaries (optimal solution)"
   ]
  },
  {
   "cell_type": "code",
   "execution_count": 7,
   "id": "006969e3",
   "metadata": {
    "ExecuteTime": {
     "end_time": "2022-10-21T14:22:41.089777Z",
     "start_time": "2022-10-21T14:22:41.073773Z"
    }
   },
   "outputs": [],
   "source": [
    "def anagram2(s1,s2):\n",
    "    # Remove spaces and lowercase letters\n",
    "    s1 = s1.replace(' ', '').lower()\n",
    "    s2 = s2.replace(' ', '').lower()\n",
    "    \n",
    "    # check if same number of letters\n",
    "    if len(s1) != len(s2):\n",
    "        return False\n",
    "    \n",
    "    # count frequency of each letter\n",
    "    count = {}\n",
    "    \n",
    "    for letter in s1: # for every letter in first string\n",
    "        if letter in count:  # if letter is alrdy in the dictionary, then\n",
    "            count[letter]+=1 # add 1 to that letter key\n",
    "        else:\n",
    "            count[letter] = 1\n",
    "            \n",
    "            # do reverse for second string\n",
    "    for letter in s2: \n",
    "        if letter in count:  \n",
    "            count[letter]-=1 \n",
    "        else:\n",
    "            count[letter] = 1\n",
    "    for i in count:\n",
    "        if count[i] !=0:\n",
    "            return False\n",
    "    return True"
   ]
  },
  {
   "cell_type": "code",
   "execution_count": 8,
   "id": "a19c03f4",
   "metadata": {
    "ExecuteTime": {
     "end_time": "2022-10-21T14:22:42.438763Z",
     "start_time": "2022-10-21T14:22:42.432768Z"
    }
   },
   "outputs": [
    {
     "name": "stdout",
     "output_type": "stream",
     "text": [
      "True\n"
     ]
    }
   ],
   "source": [
    "print(anagram2('clint eastwood', 'old west action'))"
   ]
  },
  {
   "cell_type": "code",
   "execution_count": null,
   "id": "3752cb0e",
   "metadata": {},
   "outputs": [],
   "source": []
  }
 ],
 "metadata": {
  "kernelspec": {
   "display_name": "Python 3 (ipykernel)",
   "language": "python",
   "name": "python3"
  },
  "language_info": {
   "codemirror_mode": {
    "name": "ipython",
    "version": 3
   },
   "file_extension": ".py",
   "mimetype": "text/x-python",
   "name": "python",
   "nbconvert_exporter": "python",
   "pygments_lexer": "ipython3",
   "version": "3.9.7"
  },
  "varInspector": {
   "cols": {
    "lenName": 16,
    "lenType": 16,
    "lenVar": 40
   },
   "kernels_config": {
    "python": {
     "delete_cmd_postfix": "",
     "delete_cmd_prefix": "del ",
     "library": "var_list.py",
     "varRefreshCmd": "print(var_dic_list())"
    },
    "r": {
     "delete_cmd_postfix": ") ",
     "delete_cmd_prefix": "rm(",
     "library": "var_list.r",
     "varRefreshCmd": "cat(var_dic_list()) "
    }
   },
   "types_to_exclude": [
    "module",
    "function",
    "builtin_function_or_method",
    "instance",
    "_Feature"
   ],
   "window_display": false
  }
 },
 "nbformat": 4,
 "nbformat_minor": 5
}
