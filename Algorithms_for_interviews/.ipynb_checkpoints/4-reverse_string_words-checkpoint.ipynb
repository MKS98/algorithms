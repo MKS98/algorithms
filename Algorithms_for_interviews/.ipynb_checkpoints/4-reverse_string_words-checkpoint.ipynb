{
 "cells": [
  {
   "cell_type": "markdown",
   "id": "d5b0c3cf",
   "metadata": {},
   "source": [
    "## Given string of words, reverse these words"
   ]
  },
  {
   "cell_type": "markdown",
   "id": "f3ee224b",
   "metadata": {},
   "source": [
    "1- create empty list\n",
    "\n",
    "2- loop through the string till spaces\n",
    "\n",
    "3- add string until space to list\n",
    "\n",
    "4- reverse the list\n",
    "\n",
    "5- join the string again and print it"
   ]
  },
  {
   "cell_type": "code",
   "execution_count": 14,
   "id": "0f864224",
   "metadata": {
    "ExecuteTime": {
     "end_time": "2022-11-05T12:59:05.654966Z",
     "start_time": "2022-11-05T12:59:05.642960Z"
    }
   },
   "outputs": [],
   "source": [
    "s= \"this is the best\""
   ]
  },
  {
   "cell_type": "code",
   "execution_count": 104,
   "id": "b865031a",
   "metadata": {
    "ExecuteTime": {
     "end_time": "2022-11-05T13:43:37.951400Z",
     "start_time": "2022-11-05T13:43:37.934411Z"
    }
   },
   "outputs": [],
   "source": [
    "# this should be the split function\n",
    "def reverse_chars(s):\n",
    "    spaces = ' '\n",
    "    words = []\n",
    "    i = 0\n",
    "    \n",
    "    while i < len(s):\n",
    "        if s[i] not in spaces:\n",
    "            start = i\n",
    "            while i <len(s) and s[i] not in spaces:\n",
    "                i+=1\n",
    "                \n",
    "            words.append(s[start])\n",
    "        i +=1\n",
    "    return ''.join(reversed(s))\n",
    "        \n",
    "             "
   ]
  },
  {
   "cell_type": "code",
   "execution_count": 109,
   "id": "88101d96",
   "metadata": {
    "ExecuteTime": {
     "end_time": "2022-11-05T13:43:59.467945Z",
     "start_time": "2022-11-05T13:43:59.453937Z"
    }
   },
   "outputs": [
    {
     "name": "stdout",
     "output_type": "stream",
     "text": [
      "tseb eht si siht\n"
     ]
    }
   ],
   "source": [
    "print(reverse_chars(s))"
   ]
  },
  {
   "cell_type": "code",
   "execution_count": 4,
   "id": "a64b2c23",
   "metadata": {
    "ExecuteTime": {
     "end_time": "2022-11-05T12:54:00.241980Z",
     "start_time": "2022-11-05T12:54:00.222992Z"
    }
   },
   "outputs": [],
   "source": [
    "def reverse1(s):\n",
    "    return ' '.join(reversed(s.split()))"
   ]
  },
  {
   "cell_type": "code",
   "execution_count": 2,
   "id": "e424ee08",
   "metadata": {
    "ExecuteTime": {
     "end_time": "2022-11-05T12:34:06.195066Z",
     "start_time": "2022-11-05T12:34:06.180059Z"
    }
   },
   "outputs": [],
   "source": [
    "def reverse2(s):\n",
    "    return ' '.join(s.split()[::-1])"
   ]
  },
  {
   "cell_type": "code",
   "execution_count": 89,
   "id": "3ce87ad1",
   "metadata": {
    "ExecuteTime": {
     "end_time": "2022-11-05T13:37:56.365737Z",
     "start_time": "2022-11-05T13:37:56.351744Z"
    }
   },
   "outputs": [
    {
     "name": "stdout",
     "output_type": "stream",
     "text": [
      "this is the best\n",
      "best the is this\n"
     ]
    }
   ],
   "source": [
    "print(reverse(s))\n",
    "print(reverse1(s))"
   ]
  },
  {
   "cell_type": "code",
   "execution_count": 82,
   "id": "4fc67768",
   "metadata": {
    "ExecuteTime": {
     "end_time": "2022-11-05T13:13:57.715932Z",
     "start_time": "2022-11-05T13:13:57.702926Z"
    }
   },
   "outputs": [],
   "source": [
    "# my own try\n",
    "def reverse_try(s):\n",
    "    l = []\n",
    "    c = 0\n",
    "    s = s + ' '\n",
    "    for i in range (len(s)):\n",
    "        \n",
    "        if s[i] != \" \":\n",
    "            w = s[c:i]\n",
    "\n",
    "            l.append(w)\n",
    "            c = i\n",
    "    for i in l:\n",
    "        if i[0] == ' ':\n",
    "            i[0].replace(' ', '')\n",
    "    return l\n",
    "    "
   ]
  }
 ],
 "metadata": {
  "kernelspec": {
   "display_name": "Python 3 (ipykernel)",
   "language": "python",
   "name": "python3"
  },
  "language_info": {
   "codemirror_mode": {
    "name": "ipython",
    "version": 3
   },
   "file_extension": ".py",
   "mimetype": "text/x-python",
   "name": "python",
   "nbconvert_exporter": "python",
   "pygments_lexer": "ipython3",
   "version": "3.9.7"
  },
  "varInspector": {
   "cols": {
    "lenName": 16,
    "lenType": 16,
    "lenVar": 40
   },
   "kernels_config": {
    "python": {
     "delete_cmd_postfix": "",
     "delete_cmd_prefix": "del ",
     "library": "var_list.py",
     "varRefreshCmd": "print(var_dic_list())"
    },
    "r": {
     "delete_cmd_postfix": ") ",
     "delete_cmd_prefix": "rm(",
     "library": "var_list.r",
     "varRefreshCmd": "cat(var_dic_list()) "
    }
   },
   "types_to_exclude": [
    "module",
    "function",
    "builtin_function_or_method",
    "instance",
    "_Feature"
   ],
   "window_display": false
  }
 },
 "nbformat": 4,
 "nbformat_minor": 5
}
