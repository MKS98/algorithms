{
 "cells": [
  {
   "cell_type": "markdown",
   "id": "61648743",
   "metadata": {},
   "source": [
    "## Big(O) = O(N)"
   ]
  },
  {
   "cell_type": "code",
   "execution_count": 33,
   "id": "bd32f748",
   "metadata": {
    "ExecuteTime": {
     "end_time": "2022-11-16T12:31:51.645228Z",
     "start_time": "2022-11-16T12:31:51.625213Z"
    }
   },
   "outputs": [],
   "source": [
    "def non_repeating(s):\n",
    "    s = s.replace(' ', '').lower()\n",
    "    count = {}\n",
    "    \n",
    "    for c in s:\n",
    "        if c in count:\n",
    "            count[c] += 1\n",
    "        else:\n",
    "            count[c] = 1\n",
    "    l = []\n",
    "    y = sorted(count.items(), key= lambda x:x[1])\n",
    "    for item in y:\n",
    "        if item[1] == y[0][1]:\n",
    "            l.append(item)\n",
    "    return l"
   ]
  },
  {
   "cell_type": "code",
   "execution_count": 34,
   "id": "5d3f3a23",
   "metadata": {
    "ExecuteTime": {
     "end_time": "2022-11-16T12:31:54.016874Z",
     "start_time": "2022-11-16T12:31:54.007882Z"
    }
   },
   "outputs": [
    {
     "name": "stdout",
     "output_type": "stream",
     "text": [
      "[('i', 1), ('s', 1)]\n"
     ]
    }
   ],
   "source": [
    "print(non_repeating('i Apple Ape Peels'))"
   ]
  },
  {
   "cell_type": "code",
   "execution_count": 46,
   "id": "259af1cc",
   "metadata": {
    "ExecuteTime": {
     "end_time": "2022-11-16T12:35:19.388106Z",
     "start_time": "2022-11-16T12:35:19.368118Z"
    }
   },
   "outputs": [],
   "source": [
    "def non_repeating1(s):\n",
    "    s = s.replace(' ', '').lower()\n",
    "    count = {}\n",
    "    \n",
    "    for c in s:\n",
    "        if c in count:\n",
    "            count[c] += 1\n",
    "        else:\n",
    "            count[c] = 1\n",
    "    l = []\n",
    "    for i in s:\n",
    "        if count[i] == 1:\n",
    "            l += i \n",
    "    char = ''\n",
    "    for i in s:\n",
    "        if count[i] == 1:\n",
    "            char += i\n",
    "    return l , char"
   ]
  },
  {
   "cell_type": "code",
   "execution_count": 47,
   "id": "301c839b",
   "metadata": {
    "ExecuteTime": {
     "end_time": "2022-11-16T12:35:21.221358Z",
     "start_time": "2022-11-16T12:35:21.207368Z"
    }
   },
   "outputs": [
    {
     "name": "stdout",
     "output_type": "stream",
     "text": [
      "(['i', 's'], 'is')\n"
     ]
    }
   ],
   "source": [
    "print(non_repeating1('i Apple Ape Peels'))"
   ]
  },
  {
   "cell_type": "code",
   "execution_count": null,
   "id": "3f3679be",
   "metadata": {},
   "outputs": [],
   "source": []
  }
 ],
 "metadata": {
  "kernelspec": {
   "display_name": "Python 3 (ipykernel)",
   "language": "python",
   "name": "python3"
  },
  "language_info": {
   "codemirror_mode": {
    "name": "ipython",
    "version": 3
   },
   "file_extension": ".py",
   "mimetype": "text/x-python",
   "name": "python",
   "nbconvert_exporter": "python",
   "pygments_lexer": "ipython3",
   "version": "3.9.7"
  },
  "varInspector": {
   "cols": {
    "lenName": 16,
    "lenType": 16,
    "lenVar": 40
   },
   "kernels_config": {
    "python": {
     "delete_cmd_postfix": "",
     "delete_cmd_prefix": "del ",
     "library": "var_list.py",
     "varRefreshCmd": "print(var_dic_list())"
    },
    "r": {
     "delete_cmd_postfix": ") ",
     "delete_cmd_prefix": "rm(",
     "library": "var_list.r",
     "varRefreshCmd": "cat(var_dic_list()) "
    }
   },
   "types_to_exclude": [
    "module",
    "function",
    "builtin_function_or_method",
    "instance",
    "_Feature"
   ],
   "window_display": false
  }
 },
 "nbformat": 4,
 "nbformat_minor": 5
}
