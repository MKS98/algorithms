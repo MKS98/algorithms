{
 "cells": [
  {
   "cell_type": "code",
   "execution_count": 2,
   "id": "5bd083d1",
   "metadata": {
    "ExecuteTime": {
     "end_time": "2022-11-16T12:00:27.189150Z",
     "start_time": "2022-11-16T12:00:27.170176Z"
    }
   },
   "outputs": [],
   "source": [
    "def unique(string):\n",
    "    string = string.replace(' ', '')\n",
    "    return len(set(string)) == len(string)\n",
    "    "
   ]
  },
  {
   "cell_type": "code",
   "execution_count": 13,
   "id": "002c316b",
   "metadata": {
    "ExecuteTime": {
     "end_time": "2022-11-16T12:07:28.740924Z",
     "start_time": "2022-11-16T12:07:28.735928Z"
    },
    "scrolled": true
   },
   "outputs": [
    {
     "name": "stdout",
     "output_type": "stream",
     "text": [
      "False\n"
     ]
    }
   ],
   "source": [
    "print(unique('a b cdeff'))"
   ]
  },
  {
   "cell_type": "code",
   "execution_count": 6,
   "id": "12d7af57",
   "metadata": {
    "ExecuteTime": {
     "end_time": "2022-11-16T12:06:33.322223Z",
     "start_time": "2022-11-16T12:06:33.312230Z"
    }
   },
   "outputs": [],
   "source": [
    "def unique1(s):\n",
    "    s = s.replace(' ', '')\n",
    "    char = set()\n",
    "    \n",
    "    for i in s:\n",
    "        if i in char:\n",
    "            return False\n",
    "        else:\n",
    "            char.add(i)\n",
    "    return True"
   ]
  },
  {
   "cell_type": "code",
   "execution_count": 14,
   "id": "fc07280f",
   "metadata": {
    "ExecuteTime": {
     "end_time": "2022-11-16T12:07:30.072926Z",
     "start_time": "2022-11-16T12:07:30.063931Z"
    }
   },
   "outputs": [
    {
     "name": "stdout",
     "output_type": "stream",
     "text": [
      "False\n"
     ]
    }
   ],
   "source": [
    "print(unique1('a b cdeff'))"
   ]
  },
  {
   "cell_type": "code",
   "execution_count": null,
   "id": "ad00e27d",
   "metadata": {},
   "outputs": [],
   "source": []
  }
 ],
 "metadata": {
  "kernelspec": {
   "display_name": "Python 3 (ipykernel)",
   "language": "python",
   "name": "python3"
  },
  "language_info": {
   "codemirror_mode": {
    "name": "ipython",
    "version": 3
   },
   "file_extension": ".py",
   "mimetype": "text/x-python",
   "name": "python",
   "nbconvert_exporter": "python",
   "pygments_lexer": "ipython3",
   "version": "3.9.7"
  },
  "varInspector": {
   "cols": {
    "lenName": 16,
    "lenType": 16,
    "lenVar": 40
   },
   "kernels_config": {
    "python": {
     "delete_cmd_postfix": "",
     "delete_cmd_prefix": "del ",
     "library": "var_list.py",
     "varRefreshCmd": "print(var_dic_list())"
    },
    "r": {
     "delete_cmd_postfix": ") ",
     "delete_cmd_prefix": "rm(",
     "library": "var_list.r",
     "varRefreshCmd": "cat(var_dic_list()) "
    }
   },
   "types_to_exclude": [
    "module",
    "function",
    "builtin_function_or_method",
    "instance",
    "_Feature"
   ],
   "window_display": false
  }
 },
 "nbformat": 4,
 "nbformat_minor": 5
}
