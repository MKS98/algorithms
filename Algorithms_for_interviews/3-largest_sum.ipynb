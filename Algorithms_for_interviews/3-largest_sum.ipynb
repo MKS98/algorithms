{
 "cells": [
  {
   "cell_type": "markdown",
   "id": "65b73e3a",
   "metadata": {},
   "source": [
    "## Take an array with positive and negative int and find the max sum of that array"
   ]
  },
  {
   "cell_type": "markdown",
   "id": "61f0286e",
   "metadata": {},
   "source": [
    "1- check if the array length is more than 0\n",
    "\n",
    "2- create variable sum\n",
    "\n",
    "3- loop over the array\n",
    "\n",
    "4- if i greater than 0 add it to sum\n",
    "\n",
    "5- else multiply it by -1 and add it to sum"
   ]
  },
  {
   "cell_type": "code",
   "execution_count": 2,
   "id": "d8d0bb60",
   "metadata": {
    "ExecuteTime": {
     "end_time": "2022-11-05T12:20:22.726125Z",
     "start_time": "2022-11-05T12:20:22.711119Z"
    }
   },
   "outputs": [],
   "source": [
    "arr = [7,1,2,-1,3,4,10,-12,3,21,-19]"
   ]
  },
  {
   "cell_type": "code",
   "execution_count": 4,
   "id": "97c9b898",
   "metadata": {
    "ExecuteTime": {
     "end_time": "2022-11-05T12:20:56.598768Z",
     "start_time": "2022-11-05T12:20:56.582776Z"
    }
   },
   "outputs": [],
   "source": [
    "def largest(arr):\n",
    "    if len(arr) == 0:\n",
    "        return print(\"too small\")\n",
    "    max_sum = current_sum = arr[0]\n",
    "    \n",
    "    for i in arr[1:]:\n",
    "        current_sum = max(current_sum+i, i)\n",
    "        max_sum = max(max_sum, current_sum)\n",
    "    return max_sum"
   ]
  },
  {
   "cell_type": "code",
   "execution_count": 5,
   "id": "3a77f039",
   "metadata": {
    "ExecuteTime": {
     "end_time": "2022-11-05T12:20:57.429763Z",
     "start_time": "2022-11-05T12:20:57.414777Z"
    }
   },
   "outputs": [
    {
     "name": "stdout",
     "output_type": "stream",
     "text": [
      "38\n"
     ]
    }
   ],
   "source": [
    "print(largest(arr))"
   ]
  }
 ],
 "metadata": {
  "kernelspec": {
   "display_name": "Python 3 (ipykernel)",
   "language": "python",
   "name": "python3"
  },
  "language_info": {
   "codemirror_mode": {
    "name": "ipython",
    "version": 3
   },
   "file_extension": ".py",
   "mimetype": "text/x-python",
   "name": "python",
   "nbconvert_exporter": "python",
   "pygments_lexer": "ipython3",
   "version": "3.9.7"
  },
  "varInspector": {
   "cols": {
    "lenName": 16,
    "lenType": 16,
    "lenVar": 40
   },
   "kernels_config": {
    "python": {
     "delete_cmd_postfix": "",
     "delete_cmd_prefix": "del ",
     "library": "var_list.py",
     "varRefreshCmd": "print(var_dic_list())"
    },
    "r": {
     "delete_cmd_postfix": ") ",
     "delete_cmd_prefix": "rm(",
     "library": "var_list.r",
     "varRefreshCmd": "cat(var_dic_list()) "
    }
   },
   "types_to_exclude": [
    "module",
    "function",
    "builtin_function_or_method",
    "instance",
    "_Feature"
   ],
   "window_display": false
  }
 },
 "nbformat": 4,
 "nbformat_minor": 5
}
