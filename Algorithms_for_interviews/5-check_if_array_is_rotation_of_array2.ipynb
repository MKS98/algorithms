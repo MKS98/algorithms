{
 "cells": [
  {
   "cell_type": "markdown",
   "id": "86d71c0e",
   "metadata": {},
   "source": [
    "1- if length of array1 not same as array2 return false\n",
    "\n",
    "2- create key variable to store first element in array1\n",
    "\n",
    "3- create key_index to find i+num of the occurence of key in array2\n",
    "\n",
    "4- loop to find that index\n",
    "\n",
    "5- if the key_index = 0 return false\n",
    "\n",
    "6- create new l2index = (key_index + j) % len(list1)\n",
    "\n",
    "7- if element indexed j in list1 != element of index l2index in list2 return false\n",
    "\n",
    "8- passive return True"
   ]
  },
  {
   "cell_type": "code",
   "execution_count": 31,
   "id": "2966d104",
   "metadata": {
    "ExecuteTime": {
     "end_time": "2022-11-15T00:15:58.500242Z",
     "start_time": "2022-11-15T00:15:58.486239Z"
    }
   },
   "outputs": [],
   "source": [
    "def rotation(list1, list2):\n",
    "    if len(list1) != len(list2):\n",
    "        return False\n",
    "    \n",
    "    key = list1[0]\n",
    "    key_index = 0\n",
    "    \n",
    "    for i in range(len(list2)):\n",
    "        if list2[i] == key:\n",
    "            key_index = i\n",
    "            break\n",
    "    \n",
    "    if key_index == 0:\n",
    "        return False\n",
    "    \n",
    "    for j in range(len(list1)):\n",
    "        l2index = (key_index + j) % len(list1)\n",
    "        if list1[j] != list2[l2index]:\n",
    "            return False\n",
    "    return True"
   ]
  },
  {
   "cell_type": "code",
   "execution_count": 33,
   "id": "9f4ea9b8",
   "metadata": {
    "ExecuteTime": {
     "end_time": "2022-11-15T00:27:30.230171Z",
     "start_time": "2022-11-15T00:27:30.212181Z"
    }
   },
   "outputs": [],
   "source": [
    "def rotation2(list1, list2):\n",
    "    if len(list1) != len(list2):\n",
    "        return False\n",
    "    \n",
    "    key = list1[0]\n",
    "    key_index = 0\n",
    "    for i in range(len(list2)):\n",
    "        if list2[i] == key:\n",
    "            key_index = i\n",
    "            break\n",
    "            \n",
    "    if key_index == 0:\n",
    "        return False\n",
    "    for i in range(len(list1)):\n",
    "        l2index = (key_index + i) % len(list1)\n",
    "        if list1[i] != list2[l2index]:\n",
    "            return False\n",
    "    return True"
   ]
  },
  {
   "cell_type": "code",
   "execution_count": 36,
   "id": "8523bd2b",
   "metadata": {
    "ExecuteTime": {
     "end_time": "2022-11-15T00:27:53.903036Z",
     "start_time": "2022-11-15T00:27:53.892038Z"
    }
   },
   "outputs": [
    {
     "name": "stdout",
     "output_type": "stream",
     "text": [
      "True\n",
      "True\n"
     ]
    }
   ],
   "source": [
    "print(rotation([1,2,3,4,5,6,7], [4,5,6,7,1,2,3]))\n",
    "print(rotation2([1,2,3,4,5,6,7], [4,5,6,7,1,2,3]))"
   ]
  },
  {
   "cell_type": "code",
   "execution_count": null,
   "id": "361672b5",
   "metadata": {},
   "outputs": [],
   "source": []
  }
 ],
 "metadata": {
  "kernelspec": {
   "display_name": "Python 3 (ipykernel)",
   "language": "python",
   "name": "python3"
  },
  "language_info": {
   "codemirror_mode": {
    "name": "ipython",
    "version": 3
   },
   "file_extension": ".py",
   "mimetype": "text/x-python",
   "name": "python",
   "nbconvert_exporter": "python",
   "pygments_lexer": "ipython3",
   "version": "3.9.7"
  },
  "varInspector": {
   "cols": {
    "lenName": 16,
    "lenType": 16,
    "lenVar": 40
   },
   "kernels_config": {
    "python": {
     "delete_cmd_postfix": "",
     "delete_cmd_prefix": "del ",
     "library": "var_list.py",
     "varRefreshCmd": "print(var_dic_list())"
    },
    "r": {
     "delete_cmd_postfix": ") ",
     "delete_cmd_prefix": "rm(",
     "library": "var_list.r",
     "varRefreshCmd": "cat(var_dic_list()) "
    }
   },
   "types_to_exclude": [
    "module",
    "function",
    "builtin_function_or_method",
    "instance",
    "_Feature"
   ],
   "window_display": false
  }
 },
 "nbformat": 4,
 "nbformat_minor": 5
}
