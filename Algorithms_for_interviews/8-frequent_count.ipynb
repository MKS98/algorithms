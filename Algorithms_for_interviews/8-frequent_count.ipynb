{
 "cells": [
  {
   "cell_type": "code",
   "execution_count": 3,
   "id": "318b27ea",
   "metadata": {
    "ExecuteTime": {
     "end_time": "2022-11-16T11:52:50.216562Z",
     "start_time": "2022-11-16T11:52:50.197571Z"
    }
   },
   "outputs": [],
   "source": [
    "def most_frequent(list):\n",
    "    count = {}\n",
    "    max_count = 0\n",
    "    max_item = None\n",
    "    for i in list:\n",
    "        if i not in count:\n",
    "            count[i] = 1\n",
    "            \n",
    "        else:\n",
    "            count[i] += 1\n",
    "        \n",
    "        if count[i] > max_count:\n",
    "            max_count = count[i]\n",
    "            max_item = i\n",
    "    return max_item"
   ]
  },
  {
   "cell_type": "code",
   "execution_count": 4,
   "id": "2cebc596",
   "metadata": {
    "ExecuteTime": {
     "end_time": "2022-11-16T11:52:51.580573Z",
     "start_time": "2022-11-16T11:52:51.572563Z"
    }
   },
   "outputs": [
    {
     "name": "stdout",
     "output_type": "stream",
     "text": [
      "1\n"
     ]
    }
   ],
   "source": [
    "print(most_frequent([1,3,3,3,2,1,1,1,2,4,5,6,7,1,-1,-1]))"
   ]
  },
  {
   "cell_type": "code",
   "execution_count": null,
   "id": "86831ec8",
   "metadata": {},
   "outputs": [],
   "source": []
  }
 ],
 "metadata": {
  "kernelspec": {
   "display_name": "Python 3 (ipykernel)",
   "language": "python",
   "name": "python3"
  },
  "language_info": {
   "codemirror_mode": {
    "name": "ipython",
    "version": 3
   },
   "file_extension": ".py",
   "mimetype": "text/x-python",
   "name": "python",
   "nbconvert_exporter": "python",
   "pygments_lexer": "ipython3",
   "version": "3.9.7"
  },
  "varInspector": {
   "cols": {
    "lenName": 16,
    "lenType": 16,
    "lenVar": 40
   },
   "kernels_config": {
    "python": {
     "delete_cmd_postfix": "",
     "delete_cmd_prefix": "del ",
     "library": "var_list.py",
     "varRefreshCmd": "print(var_dic_list())"
    },
    "r": {
     "delete_cmd_postfix": ") ",
     "delete_cmd_prefix": "rm(",
     "library": "var_list.r",
     "varRefreshCmd": "cat(var_dic_list()) "
    }
   },
   "types_to_exclude": [
    "module",
    "function",
    "builtin_function_or_method",
    "instance",
    "_Feature"
   ],
   "window_display": false
  }
 },
 "nbformat": 4,
 "nbformat_minor": 5
}
