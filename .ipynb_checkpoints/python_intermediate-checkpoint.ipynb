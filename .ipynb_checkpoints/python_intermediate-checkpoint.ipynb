{
 "cells": [
  {
   "cell_type": "markdown",
   "id": "fb6aac99",
   "metadata": {},
   "source": [
    "## LISTS"
   ]
  },
  {
   "cell_type": "code",
   "execution_count": 3,
   "id": "64299160",
   "metadata": {
    "ExecuteTime": {
     "end_time": "2022-11-16T20:34:24.869873Z",
     "start_time": "2022-11-16T20:34:24.848885Z"
    }
   },
   "outputs": [
    {
     "name": "stdout",
     "output_type": "stream",
     "text": [
      "[1, 2] [1, 2, 5]\n"
     ]
    }
   ],
   "source": [
    "# to copy list\n",
    "l = [1,2]\n",
    "li = l.copy()\n",
    "li = l[:]\n",
    "li = list(l)\n",
    "\n",
    "li.append(5)\n",
    "print(l, li)"
   ]
  },
  {
   "cell_type": "code",
   "execution_count": 2,
   "id": "733cae07",
   "metadata": {
    "ExecuteTime": {
     "end_time": "2022-11-16T20:34:23.456074Z",
     "start_time": "2022-11-16T20:34:23.440067Z"
    }
   },
   "outputs": [
    {
     "name": "stdout",
     "output_type": "stream",
     "text": [
      "[1, 2, 5] [1, 2, 5]\n"
     ]
    }
   ],
   "source": [
    "# if you do li = l only they poth will point to same address in memory so if you change one both get changed\n",
    "ls = l\n",
    "ls.append(5)\n",
    "print(l, ls)"
   ]
  },
  {
   "cell_type": "code",
   "execution_count": 12,
   "id": "898ef298",
   "metadata": {
    "ExecuteTime": {
     "end_time": "2022-11-16T20:37:01.264584Z",
     "start_time": "2022-11-16T20:37:01.247595Z"
    }
   },
   "outputs": [
    {
     "name": "stdout",
     "output_type": "stream",
     "text": [
      "[1, 2, 3, 4, 5] \n",
      " [1, 4, 9, 16, 25]\n"
     ]
    }
   ],
   "source": [
    "# to create list from list\n",
    "a = [1, 2, 3, 4, 5]\n",
    "b = [i * i for i in a]\n",
    "print(a,'\\n', b)"
   ]
  },
  {
   "cell_type": "markdown",
   "id": "28802b44",
   "metadata": {},
   "source": [
    "# Tuple"
   ]
  },
  {
   "cell_type": "code",
   "execution_count": 13,
   "id": "873ffb2b",
   "metadata": {
    "ExecuteTime": {
     "end_time": "2022-11-16T20:59:39.028506Z",
     "start_time": "2022-11-16T20:59:39.016513Z"
    }
   },
   "outputs": [
    {
     "name": "stdout",
     "output_type": "stream",
     "text": [
      "max\n",
      "28\n",
      "boston\n"
     ]
    }
   ],
   "source": [
    "# unpacking tuples but variables have to match number of elements in tuple\n",
    "my_tuple = \"max\", 28, \"boston\"\n",
    "name, age, city = my_tuple\n",
    "print(name)\n",
    "print(age)\n",
    "print(city)"
   ]
  },
  {
   "cell_type": "code",
   "execution_count": 17,
   "id": "0a6b82f5",
   "metadata": {
    "ExecuteTime": {
     "end_time": "2022-11-16T21:01:29.951252Z",
     "start_time": "2022-11-16T21:01:29.943259Z"
    }
   },
   "outputs": [
    {
     "name": "stdout",
     "output_type": "stream",
     "text": [
      "0\n",
      "4\n",
      "[1, 2, 3]\n"
     ]
    }
   ],
   "source": [
    "tuple1 = (0,1,2,3,4)\n",
    "i1,*i2, i3 = tuple1\n",
    "print(i1)\n",
    "print(i3)\n",
    "print(i2)"
   ]
  },
  {
   "cell_type": "markdown",
   "id": "58191c96",
   "metadata": {},
   "source": [
    "# Set"
   ]
  },
  {
   "cell_type": "code",
   "execution_count": 4,
   "id": "2dad228a",
   "metadata": {
    "ExecuteTime": {
     "end_time": "2022-11-20T06:12:43.997489Z",
     "start_time": "2022-11-20T06:12:43.980495Z"
    }
   },
   "outputs": [
    {
     "name": "stdout",
     "output_type": "stream",
     "text": [
      "set()\n"
     ]
    }
   ],
   "source": [
    "x = set()\n",
    "x.add(1)\n",
    "x.add(2)\n",
    "x.add(3)\n",
    "x.remove(2)\n",
    "x.discard(3) # same as remove but no error if element is not in set()\n",
    "x.clear()\n",
    "print(x)"
   ]
  },
  {
   "cell_type": "code",
   "execution_count": null,
   "id": "7ca20fcf",
   "metadata": {},
   "outputs": [],
   "source": [
    "odds = {1,3,5,7,9}\n",
    "evens = {0,2,4,6,8}\n",
    "primes = {2,3,5,7}\n",
    "union = odds.union(evens)\n",
    "i = odds.intersection(evens)\n"
   ]
  }
 ],
 "metadata": {
  "kernelspec": {
   "display_name": "Python 3 (ipykernel)",
   "language": "python",
   "name": "python3"
  },
  "language_info": {
   "codemirror_mode": {
    "name": "ipython",
    "version": 3
   },
   "file_extension": ".py",
   "mimetype": "text/x-python",
   "name": "python",
   "nbconvert_exporter": "python",
   "pygments_lexer": "ipython3",
   "version": "3.9.7"
  },
  "varInspector": {
   "cols": {
    "lenName": 16,
    "lenType": 16,
    "lenVar": 40
   },
   "kernels_config": {
    "python": {
     "delete_cmd_postfix": "",
     "delete_cmd_prefix": "del ",
     "library": "var_list.py",
     "varRefreshCmd": "print(var_dic_list())"
    },
    "r": {
     "delete_cmd_postfix": ") ",
     "delete_cmd_prefix": "rm(",
     "library": "var_list.r",
     "varRefreshCmd": "cat(var_dic_list()) "
    }
   },
   "types_to_exclude": [
    "module",
    "function",
    "builtin_function_or_method",
    "instance",
    "_Feature"
   ],
   "window_display": false
  }
 },
 "nbformat": 4,
 "nbformat_minor": 5
}
