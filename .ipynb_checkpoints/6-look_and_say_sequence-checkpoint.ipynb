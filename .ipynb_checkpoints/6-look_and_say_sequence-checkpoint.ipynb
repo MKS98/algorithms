{
 "cells": [
  {
   "cell_type": "markdown",
   "id": "0314df9f",
   "metadata": {},
   "source": [
    "* create empty list to append each element\n",
    "* loop until len(s)\n",
    "* create count starting by 1  ## bcz you will append the i+1 to it so you need it starting from 1\n",
    "* append the count and the i(th) element to the list\n",
    "* update the i+=1\n",
    "* call the function (n) times"
   ]
  },
  {
   "cell_type": "code",
   "execution_count": 2,
   "id": "9d5cc0f9",
   "metadata": {
    "ExecuteTime": {
     "end_time": "2022-11-21T01:35:30.310392Z",
     "start_time": "2022-11-21T01:35:30.297401Z"
    }
   },
   "outputs": [],
   "source": [
    "def next_number(s):\n",
    "    l = []\n",
    "    i = 0\n",
    "    # itr through the string\n",
    "    while i < len(s):\n",
    "        count = 1 # initialize count to 1\n",
    "        while i+1 < len(s) and s[i] == s[i+1]: # check if ith element next element\n",
    "            count+=1\n",
    "            i+=1       \n",
    "        l.append(str(count) + s[i])\n",
    "        i+=1    \n",
    "    return ''.join(l)"
   ]
  },
  {
   "cell_type": "code",
   "execution_count": 3,
   "id": "766a23c7",
   "metadata": {
    "ExecuteTime": {
     "end_time": "2022-11-21T01:35:31.622864Z",
     "start_time": "2022-11-21T01:35:31.592881Z"
    }
   },
   "outputs": [
    {
     "data": {
      "text/plain": [
       "'111221'"
      ]
     },
     "execution_count": 3,
     "metadata": {},
     "output_type": "execute_result"
    }
   ],
   "source": [
    "next_number('1211')"
   ]
  },
  {
   "cell_type": "code",
   "execution_count": 7,
   "id": "3cff9150",
   "metadata": {
    "ExecuteTime": {
     "end_time": "2022-11-21T01:36:57.775208Z",
     "start_time": "2022-11-21T01:36:57.768216Z"
    }
   },
   "outputs": [],
   "source": [
    "def sequence(s, n):\n",
    "    print(s)\n",
    "    for i in range(n-1):\n",
    "        s = next_number(s)\n",
    "        print(s)"
   ]
  },
  {
   "cell_type": "code",
   "execution_count": 8,
   "id": "e7d09d75",
   "metadata": {
    "ExecuteTime": {
     "end_time": "2022-11-21T01:36:58.931313Z",
     "start_time": "2022-11-21T01:36:58.922318Z"
    }
   },
   "outputs": [
    {
     "name": "stdout",
     "output_type": "stream",
     "text": [
      "1\n",
      "11\n",
      "21\n",
      "1211\n"
     ]
    }
   ],
   "source": [
    "sequence('1', 4)"
   ]
  },
  {
   "cell_type": "code",
   "execution_count": null,
   "id": "eb10b6a9",
   "metadata": {},
   "outputs": [],
   "source": []
  }
 ],
 "metadata": {
  "kernelspec": {
   "display_name": "Python 3 (ipykernel)",
   "language": "python",
   "name": "python3"
  },
  "language_info": {
   "codemirror_mode": {
    "name": "ipython",
    "version": 3
   },
   "file_extension": ".py",
   "mimetype": "text/x-python",
   "name": "python",
   "nbconvert_exporter": "python",
   "pygments_lexer": "ipython3",
   "version": "3.9.7"
  },
  "varInspector": {
   "cols": {
    "lenName": 16,
    "lenType": 16,
    "lenVar": 40
   },
   "kernels_config": {
    "python": {
     "delete_cmd_postfix": "",
     "delete_cmd_prefix": "del ",
     "library": "var_list.py",
     "varRefreshCmd": "print(var_dic_list())"
    },
    "r": {
     "delete_cmd_postfix": ") ",
     "delete_cmd_prefix": "rm(",
     "library": "var_list.r",
     "varRefreshCmd": "cat(var_dic_list()) "
    }
   },
   "types_to_exclude": [
    "module",
    "function",
    "builtin_function_or_method",
    "instance",
    "_Feature"
   ],
   "window_display": false
  }
 },
 "nbformat": 4,
 "nbformat_minor": 5
}
