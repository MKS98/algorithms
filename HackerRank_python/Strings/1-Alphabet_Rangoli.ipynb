{
 "cells": [
  {
   "cell_type": "markdown",
   "id": "f578eb6c",
   "metadata": {},
   "source": [
    "https://www.thepoorcoder.com/alphabet-rangoli/"
   ]
  },
  {
   "cell_type": "code",
   "execution_count": 2,
   "id": "e99fcf25",
   "metadata": {
    "ExecuteTime": {
     "end_time": "2022-10-08T14:52:19.957326Z",
     "start_time": "2022-10-08T14:52:19.940336Z"
    }
   },
   "outputs": [
    {
     "name": "stdout",
     "output_type": "stream",
     "text": [
      "['a', 'b', 'c']\n"
     ]
    }
   ],
   "source": [
    "n=3\n",
    "alpha = \"abcdefghijklmnopqrstuvwxyz\"\n",
    "data = [alpha[i] for i in range(n)]\n",
    "print(data)"
   ]
  },
  {
   "cell_type": "code",
   "execution_count": 3,
   "id": "91a7ed35",
   "metadata": {
    "ExecuteTime": {
     "end_time": "2022-10-08T14:52:29.323608Z",
     "start_time": "2022-10-08T14:52:29.316614Z"
    }
   },
   "outputs": [
    {
     "name": "stdout",
     "output_type": "stream",
     "text": [
      "[0, 1, 2, 1, 0]\n"
     ]
    }
   ],
   "source": [
    "items = list(range(n))\n",
    "items= items[:-1]+items[::-1]\n",
    "print(items)"
   ]
  },
  {
   "cell_type": "code",
   "execution_count": 8,
   "id": "f89139ad",
   "metadata": {
    "ExecuteTime": {
     "end_time": "2022-10-08T15:30:28.907946Z",
     "start_time": "2022-10-08T15:30:28.899951Z"
    }
   },
   "outputs": [
    {
     "name": "stdout",
     "output_type": "stream",
     "text": [
      "['c']\n",
      "['b', 'c']\n",
      "['a', 'b', 'c']\n",
      "['b', 'c']\n",
      "['c']\n"
     ]
    }
   ],
   "source": [
    "for i in items:\n",
    "        temp = data[-(i+1):]\n",
    "        row = temp[::-1]+temp[1:]\n",
    "        print(temp)\n",
    "#         print(row)\n",
    "#         print(\"-\".join(row))"
   ]
  },
  {
   "cell_type": "code",
   "execution_count": 2,
   "id": "20440c03",
   "metadata": {
    "ExecuteTime": {
     "end_time": "2022-10-08T15:32:43.743489Z",
     "start_time": "2022-10-08T15:32:42.579395Z"
    }
   },
   "outputs": [
    {
     "name": "stdout",
     "output_type": "stream",
     "text": [
      "3\n",
      "----c----\n",
      "--c-b-c--\n",
      "c-b-a-b-c\n",
      "--c-b-c--\n",
      "----c----\n"
     ]
    }
   ],
   "source": [
    "def print_rangoli(n):\n",
    "    alpha = \"abcdefghijklmnopqrstuvwxyz\"\n",
    "    data = [alpha[i] for i in range(n)]\n",
    "    items = list(range(n))\n",
    "    items = items[:-1]+items[::-1]\n",
    "    for i in items:\n",
    "        temp = data[-(i+1):]\n",
    "        row = temp[::-1]+temp[1:]\n",
    "        print(\"-\".join(row).center(n*4-3, \"-\"))\n",
    "\n",
    "\n",
    "n = int(input())\n",
    "print_rangoli(n)"
   ]
  },
  {
   "cell_type": "code",
   "execution_count": 5,
   "id": "3a5097ac",
   "metadata": {
    "ExecuteTime": {
     "end_time": "2022-10-08T15:38:15.284268Z",
     "start_time": "2022-10-08T15:38:15.268274Z"
    }
   },
   "outputs": [
    {
     "name": "stdout",
     "output_type": "stream",
     "text": [
      "----c----\n",
      "--c-b-c--\n",
      "c-b-a-b-c\n",
      "--c-b-c--\n",
      "----c----\n"
     ]
    }
   ],
   "source": [
    "def print_rangoli(n):\n",
    "    alpha = \"abcdefghijklmnopqrstuvwxyz\"\n",
    "    data = [alpha[i] for i in range(n)]\n",
    "    items = list(range(n))\n",
    "    items = items[:-1]+items[::-1]\n",
    "    for i in items:\n",
    "        original = data[-(i+1):]\n",
    "        row= original[::-1]+original[1:]\n",
    "        print('-'.join(row).center(n*4-3,'-'))\n",
    "        \n",
    "n = int(input())\n",
    "print_rangoli(n)"
   ]
  },
  {
   "cell_type": "code",
   "execution_count": 6,
   "id": "388a37c8",
   "metadata": {
    "ExecuteTime": {
     "end_time": "2022-10-08T15:40:29.759634Z",
     "start_time": "2022-10-08T15:40:28.978526Z"
    }
   },
   "outputs": [
    {
     "name": "stdout",
     "output_type": "stream",
     "text": [
      "3\n",
      "----c----\n",
      "--c-b-c--\n",
      "c-b-a-b-c\n",
      "--c-b-c--\n",
      "----c----\n"
     ]
    }
   ],
   "source": [
    "import string\n",
    "alpha = string.ascii_lowercase\n",
    "\n",
    "n = int(input())\n",
    "L = []\n",
    "for i in range(n):\n",
    "    s = \"-\".join(alpha[i:n])\n",
    "    L.append((s[::-1]+s[1:]).center(4*n-3, \"-\"))\n",
    "print('\\n'.join(L[:0:-1]+L))"
   ]
  },
  {
   "cell_type": "code",
   "execution_count": 8,
   "id": "3b2fa38d",
   "metadata": {
    "ExecuteTime": {
     "end_time": "2022-10-08T15:40:58.483458Z",
     "start_time": "2022-10-08T15:40:57.717150Z"
    }
   },
   "outputs": [
    {
     "name": "stdout",
     "output_type": "stream",
     "text": [
      "3\n",
      "----c----\n",
      "--c-b-c--\n",
      "c-b-a-b-c\n",
      "--c-b-c--\n",
      "----c----\n"
     ]
    }
   ],
   "source": [
    "def print_rangoli(size):\n",
    "    myStr = 'abcdefghijklmnopqrstuvwxyz'[0:size]\n",
    "    \n",
    "    for i in range(size-1, -size, -1):\n",
    "        x = abs(i)\n",
    "        if x >= 0:\n",
    "            line = myStr[size:x:-1]+myStr[x:size]\n",
    "            print (\"--\"*x+ '-'.join(line)+\"--\"*x)\n",
    "\n",
    "n = int(input())\n",
    "print_rangoli(n)"
   ]
  },
  {
   "cell_type": "code",
   "execution_count": 3,
   "id": "c2a7ffae",
   "metadata": {
    "ExecuteTime": {
     "end_time": "2022-10-08T20:15:53.653568Z",
     "start_time": "2022-10-08T20:15:52.291722Z"
    }
   },
   "outputs": [
    {
     "name": "stdout",
     "output_type": "stream",
     "text": [
      "3\n",
      "----c----\n",
      "--c-b-c--\n",
      "c-b-a-b-c\n",
      "--c-b-c--\n",
      "----c----\n"
     ]
    }
   ],
   "source": [
    "def print_rangoli(s):\n",
    "    mystr = 'abcdefghijklmnopqrstuvwxyz'[0:s]\n",
    "    for i in range(s-1,-s,-1):\n",
    "        x = abs(i)\n",
    "        line = mystr[s:x:-1]+mystr[x:s]\n",
    "        print('--'*x+'-'.join(line)+'--'*x)\n",
    "\n",
    "n = int(input())\n",
    "print_rangoli(n)"
   ]
  },
  {
   "cell_type": "code",
   "execution_count": null,
   "id": "adca34c3",
   "metadata": {},
   "outputs": [],
   "source": []
  }
 ],
 "metadata": {
  "kernelspec": {
   "display_name": "Python 3 (ipykernel)",
   "language": "python",
   "name": "python3"
  },
  "language_info": {
   "codemirror_mode": {
    "name": "ipython",
    "version": 3
   },
   "file_extension": ".py",
   "mimetype": "text/x-python",
   "name": "python",
   "nbconvert_exporter": "python",
   "pygments_lexer": "ipython3",
   "version": "3.9.7"
  },
  "varInspector": {
   "cols": {
    "lenName": 16,
    "lenType": 16,
    "lenVar": 40
   },
   "kernels_config": {
    "python": {
     "delete_cmd_postfix": "",
     "delete_cmd_prefix": "del ",
     "library": "var_list.py",
     "varRefreshCmd": "print(var_dic_list())"
    },
    "r": {
     "delete_cmd_postfix": ") ",
     "delete_cmd_prefix": "rm(",
     "library": "var_list.r",
     "varRefreshCmd": "cat(var_dic_list()) "
    }
   },
   "types_to_exclude": [
    "module",
    "function",
    "builtin_function_or_method",
    "instance",
    "_Feature"
   ],
   "window_display": false
  }
 },
 "nbformat": 4,
 "nbformat_minor": 5
}
