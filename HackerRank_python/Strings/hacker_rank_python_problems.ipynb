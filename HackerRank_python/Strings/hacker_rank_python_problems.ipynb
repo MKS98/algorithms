{
 "cells": [
  {
   "cell_type": "code",
   "execution_count": null,
   "id": "02723c77",
   "metadata": {
    "ExecuteTime": {
     "end_time": "2022-09-18T06:40:03.256841Z",
     "start_time": "2022-09-18T06:40:01.402343Z"
    }
   },
   "outputs": [],
   "source": [
    "if __name__ == '__main__':\n",
    "    n = int(input())\n",
    "    arr = list(map(int, input().split()))\n",
    "    arr.sort()\n",
    "    max1 = arr[-1]\n",
    "    arr.sort(reverse=True)\n",
    "    for i in arr:\n",
    "        if i != max1:\n",
    "            print(i)\n",
    "            break"
   ]
  },
  {
   "cell_type": "code",
   "execution_count": null,
   "id": "6b12bc86",
   "metadata": {
    "ExecuteTime": {
     "end_time": "2022-10-05T22:38:49.521381Z",
     "start_time": "2022-10-05T22:37:56.683375Z"
    }
   },
   "outputs": [],
   "source": [
    "## Nested Lists\n",
    "if __name__ == '__main__':\n",
    "    scores = []\n",
    "    final_list = []\n",
    "    for _ in range(int(input())):\n",
    "        name = input()\n",
    "        score = float(input())\n",
    "        scores.append(score)\n",
    "        final_list.append([name, score])\n",
    "    scores = list(set(scores))\n",
    "    scores.sort()\n",
    "    final_list.sort()\n",
    "    sl = scores[1]\n",
    "    for name, score in final_list:\n",
    "        if score == sl:\n",
    "            print(name)\n"
   ]
  },
  {
   "cell_type": "code",
   "execution_count": null,
   "id": "06661036",
   "metadata": {
    "ExecuteTime": {
     "end_time": "2022-10-05T22:53:12.882624Z",
     "start_time": "2022-10-05T22:52:50.392596Z"
    }
   },
   "outputs": [],
   "source": [
    "## Finding the percentage\n",
    "if __name__ == '__main__':\n",
    "    n = int(input())\n",
    "    student_marks = {}\n",
    "    for _ in range(n):\n",
    "        name, *line = input().split()\n",
    "        scores = list(map(float, line))\n",
    "        student_marks[name] = scores\n",
    "    query_name = input()\n",
    "    res = sum(student_marks[query_name])/ len(student_marks[query_name])\n",
    "    print(\"%.2f\" % res)"
   ]
  },
  {
   "cell_type": "code",
   "execution_count": null,
   "id": "3e66cff0",
   "metadata": {
    "ExecuteTime": {
     "end_time": "2022-10-06T19:36:50.761579Z",
     "start_time": "2022-10-06T19:36:35.985436Z"
    }
   },
   "outputs": [],
   "source": [
    "#Lists\n",
    "if __name__ == '__main__':\n",
    "    n = int(input())\n",
    "    l = []\n",
    "    for i in range(n):\n",
    "        s = input().split()\n",
    "        if s[0] == 'insert':\n",
    "            l.insert(int(s[1]), int(s[2]))\n",
    "        elif s[0] == 'append':\n",
    "            l.append(int(s[1]))\n",
    "        elif s[0] == 'sort':\n",
    "            l.sort()\n",
    "        elif s[0] == 'pop':\n",
    "            l.pop()\n",
    "        elif s[0] == 'reverse':\n",
    "            l.reverse()\n",
    "        elif s[0] == 'remove':\n",
    "            l.remove(int(s[1]))\n",
    "        elif s[0] == 'print':\n",
    "            print(l)"
   ]
  },
  {
   "cell_type": "code",
   "execution_count": null,
   "id": "ead41973",
   "metadata": {
    "ExecuteTime": {
     "end_time": "2022-10-06T19:45:52.747177Z",
     "start_time": "2022-10-06T19:45:45.949135Z"
    }
   },
   "outputs": [],
   "source": [
    "# lists      ## another solution **\n",
    "T = int(input())\n",
    "L = []\n",
    "commands = {\n",
    "    \"append\":L.append,\n",
    "    \"insert\":L.insert,\n",
    "    \"print\":lambda *a : print(L),\n",
    "    \"sort\":L.sort,\n",
    "    \"pop\":L.pop,\n",
    "    \"reverse\":L.reverse,\n",
    "    \"remove\":L.remove\n",
    "}\n",
    "for i in range(T):\n",
    "    command, *args = input().split()\n",
    "    args = list(map(int, args))\n",
    "    commands[command](*args)"
   ]
  },
  {
   "cell_type": "code",
   "execution_count": null,
   "id": "79fa5ed3",
   "metadata": {
    "ExecuteTime": {
     "end_time": "2022-10-06T19:55:57.758690Z",
     "start_time": "2022-10-06T19:55:54.605429Z"
    }
   },
   "outputs": [],
   "source": [
    "# Tuples\n",
    "if __name__ == '__main__':\n",
    "    n = int(input())\n",
    "    l = map(int, input().split())\n",
    "    t = tuple(l)\n",
    "    print(hash(t))"
   ]
  },
  {
   "cell_type": "code",
   "execution_count": null,
   "id": "5010a038",
   "metadata": {
    "ExecuteTime": {
     "end_time": "2022-10-06T20:11:17.668245Z",
     "start_time": "2022-10-06T20:11:15.715770Z"
    }
   },
   "outputs": [],
   "source": [
    "# swap cases\n",
    "def swap_case(s):\n",
    "    st = ''\n",
    "    for i in range(len(s)):\n",
    "        if s[i].isupper():\n",
    "            st+=s[i].lower()\n",
    "        else:\n",
    "            st+=s[i].upper()\n",
    "    return st\n",
    "\n",
    "if __name__ == '__main__':\n",
    "    s = input()\n",
    "    result = swap_case(s)\n",
    "    print(result)\n",
    "\n",
    "# swap cases another solution\n",
    "def swap_case(s):\n",
    "    return s.swapcase()"
   ]
  },
  {
   "cell_type": "code",
   "execution_count": null,
   "id": "f0416d58",
   "metadata": {
    "ExecuteTime": {
     "end_time": "2022-10-06T20:25:23.584201Z",
     "start_time": "2022-10-06T20:25:23.573203Z"
    }
   },
   "outputs": [],
   "source": [
    "# split and join string\n",
    "#### note that to keep the words as it is and not join all the letters you gotta split first\n",
    "def split_and_join(line):\n",
    "    a= line.split(\" \")\n",
    "    a = \"-\".join(a)\n",
    "    return a"
   ]
  },
  {
   "cell_type": "code",
   "execution_count": null,
   "id": "4ff96836",
   "metadata": {
    "ExecuteTime": {
     "end_time": "2022-10-06T20:51:39.844854Z",
     "start_time": "2022-10-06T20:51:39.834859Z"
    }
   },
   "outputs": [],
   "source": [
    "# Mutations\n",
    "def mutate_string(string, position, character):\n",
    "    s = string[:position]+ character + string[position+1:]    \n",
    "    return s"
   ]
  },
  {
   "cell_type": "code",
   "execution_count": null,
   "id": "c0ae375c",
   "metadata": {
    "ExecuteTime": {
     "end_time": "2022-10-06T21:07:10.832729Z",
     "start_time": "2022-10-06T21:07:10.826735Z"
    }
   },
   "outputs": [],
   "source": [
    "# Find a string\n",
    "def count_substring(string, sub_string):\n",
    "    c = 0\n",
    "    for i in range(len(string)):\n",
    "        if string[i:(i+len(sub_string))] == sub_string:\n",
    "            c+=1\n",
    "    return c"
   ]
  },
  {
   "cell_type": "code",
   "execution_count": null,
   "id": "4341218a",
   "metadata": {},
   "outputs": [],
   "source": [
    "# String Validators\n",
    "if __name__ == '__main__':\n",
    "    s = input()\n",
    "    print(any(i.isalnum() for i in s))\n",
    "    print(any(i.isalpha() for i in s))\n",
    "    print(any(i.isdigit() for i in s))\n",
    "    print(any(i.islower() for i in s))\n",
    "    print(any(i.isupper() for i in s))"
   ]
  },
  {
   "cell_type": "code",
   "execution_count": null,
   "id": "f52e3583",
   "metadata": {
    "ExecuteTime": {
     "end_time": "2022-10-08T12:40:19.101457Z",
     "start_time": "2022-10-08T12:40:16.372050Z"
    }
   },
   "outputs": [],
   "source": [
    "# Text Wrap\n",
    "import textwrap\n",
    "\n",
    "def wrap(string, max_width):\n",
    "    wrapper = textwrap.fill(string, width=max_width)\n",
    "    return wrapper\n",
    "\n",
    "if __name__ == '__main__':\n",
    "    string, max_width = input(), int(input())\n",
    "    result = wrap(string, max_width)\n",
    "    print(result)"
   ]
  },
  {
   "cell_type": "code",
   "execution_count": null,
   "id": "fa97ca56",
   "metadata": {
    "ExecuteTime": {
     "end_time": "2022-10-08T13:06:01.173914Z",
     "start_time": "2022-10-08T13:05:59.442900Z"
    }
   },
   "outputs": [],
   "source": [
    "# Designer Door Mat\n",
    "n,m = map(int, input().split())\n",
    "c= '.|.'\n",
    "welcome = 'WELCOME'\n",
    "for i in range(n-1):\n",
    "    if i%2 !=0:\n",
    "        print((c*i).center(m,'-'))\n",
    "print(welcome.center(m,'-'))\n",
    "for i in range(n-1,0,-1):\n",
    "    if i%2 !=0:\n",
    "        print((c*i).center(m,'-'))"
   ]
  },
  {
   "cell_type": "code",
   "execution_count": null,
   "id": "c86fc90d",
   "metadata": {
    "ExecuteTime": {
     "end_time": "2022-10-08T13:58:51.651738Z",
     "start_time": "2022-10-08T13:58:50.245230Z"
    }
   },
   "outputs": [],
   "source": [
    "def print_formatted(number):\n",
    "    l = len(bin(number)[2:])\n",
    "    for i in range(1,n+1):\n",
    "        d = str(i)\n",
    "        o = oct(i)[2:]\n",
    "        h = hex(i)[2:].upper()\n",
    "        b = bin(i)[2:]\n",
    "        print(d.rjust(l),o.rjust(l),h.rjust(l),b.rjust(l))\n",
    "    # your code goes here\n",
    "\n",
    "if __name__ == '__main__':\n",
    "    n = int(input())\n",
    "    print_formatted(n)"
   ]
  },
  {
   "cell_type": "code",
   "execution_count": 31,
   "id": "c1de2b43",
   "metadata": {
    "ExecuteTime": {
     "end_time": "2022-10-08T14:38:08.598874Z",
     "start_time": "2022-10-08T14:38:08.579885Z"
    }
   },
   "outputs": [
    {
     "name": "stdout",
     "output_type": "stream",
     "text": [
      "['a', 'b', 'c']\n"
     ]
    }
   ],
   "source": [
    "alpha = \"abcdefghijklmnopqrstuvwxyz\"\n",
    "data = [alpha[i] for i in range(n)]\n",
    "print(data)"
   ]
  },
  {
   "cell_type": "code",
   "execution_count": 40,
   "id": "c83fc06b",
   "metadata": {
    "ExecuteTime": {
     "end_time": "2022-10-08T14:40:45.277289Z",
     "start_time": "2022-10-08T14:40:45.267278Z"
    }
   },
   "outputs": [
    {
     "name": "stdout",
     "output_type": "stream",
     "text": [
      "[0, 1, 2]\n",
      "[0, 1, 2, 1, 0]\n"
     ]
    }
   ],
   "source": [
    "items = list(range(n))\n",
    "items= items[:-1]+items[::-1]\n",
    "print(items)\n"
   ]
  },
  {
   "cell_type": "code",
   "execution_count": 48,
   "id": "f562032d",
   "metadata": {
    "ExecuteTime": {
     "end_time": "2022-10-08T14:48:26.981906Z",
     "start_time": "2022-10-08T14:48:26.962918Z"
    },
    "scrolled": true
   },
   "outputs": [
    {
     "name": "stdout",
     "output_type": "stream",
     "text": [
      "['c']\n",
      "['c']\n",
      "    c     -\n",
      "['b', 'c']\n",
      "['c', 'b', 'c']\n",
      "  c-b-c   -\n",
      "['a', 'b', 'c']\n",
      "['c', 'b', 'a', 'b', 'c']\n",
      "c-b-a-b-c -\n"
     ]
    }
   ],
   "source": [
    "for i in items:\n",
    "        temp = data[-(i+1):]\n",
    "        row = temp[::-1]+temp[1:]\n",
    "        print(temp)\n",
    "        print(row)\n",
    "        print(\"-\".join(row).center(3*4-3),'-')"
   ]
  },
  {
   "cell_type": "code",
   "execution_count": 49,
   "id": "46c1a797",
   "metadata": {
    "ExecuteTime": {
     "end_time": "2022-10-08T14:48:43.243566Z",
     "start_time": "2022-10-08T14:48:41.555919Z"
    }
   },
   "outputs": [
    {
     "name": "stdout",
     "output_type": "stream",
     "text": [
      "3\n",
      "----c----\n",
      "--c-b-c--\n",
      "c-b-a-b-c\n",
      "--c-b-c--\n",
      "----c----\n"
     ]
    }
   ],
   "source": [
    "def print_rangoli(n):\n",
    "    alpha = \"abcdefghijklmnopqrstuvwxyz\"\n",
    "    data = [alpha[i] for i in range(n)]\n",
    "    items = list(range(n))\n",
    "    items = items[:-1]+items[::-1]\n",
    "    for i in items:\n",
    "        temp = data[-(i+1):]\n",
    "        row = temp[::-1]+temp[1:]\n",
    "        print(\"-\".join(row).center(n*4-3, \"-\"))\n",
    "\n",
    "\n",
    "n = int(input())\n",
    "print_rangoli(n)"
   ]
  },
  {
   "cell_type": "code",
   "execution_count": null,
   "id": "a4fd9821",
   "metadata": {},
   "outputs": [],
   "source": []
  }
 ],
 "metadata": {
  "kernelspec": {
   "display_name": "Python 3 (ipykernel)",
   "language": "python",
   "name": "python3"
  },
  "language_info": {
   "codemirror_mode": {
    "name": "ipython",
    "version": 3
   },
   "file_extension": ".py",
   "mimetype": "text/x-python",
   "name": "python",
   "nbconvert_exporter": "python",
   "pygments_lexer": "ipython3",
   "version": "3.9.7"
  },
  "varInspector": {
   "cols": {
    "lenName": 16,
    "lenType": 16,
    "lenVar": 40
   },
   "kernels_config": {
    "python": {
     "delete_cmd_postfix": "",
     "delete_cmd_prefix": "del ",
     "library": "var_list.py",
     "varRefreshCmd": "print(var_dic_list())"
    },
    "r": {
     "delete_cmd_postfix": ") ",
     "delete_cmd_prefix": "rm(",
     "library": "var_list.r",
     "varRefreshCmd": "cat(var_dic_list()) "
    }
   },
   "types_to_exclude": [
    "module",
    "function",
    "builtin_function_or_method",
    "instance",
    "_Feature"
   ],
   "window_display": false
  }
 },
 "nbformat": 4,
 "nbformat_minor": 5
}
