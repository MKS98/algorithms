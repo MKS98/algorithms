{
 "cells": [
  {
   "cell_type": "code",
   "execution_count": 49,
   "id": "e919df25",
   "metadata": {
    "ExecuteTime": {
     "end_time": "2022-10-08T21:10:23.624452Z",
     "start_time": "2022-10-08T21:10:21.121723Z"
    }
   },
   "outputs": [
    {
     "name": "stdout",
     "output_type": "stream",
     "text": [
      "as se\n",
      "As Se\n"
     ]
    }
   ],
   "source": [
    "s= input()\n",
    "w= s.split(' ')\n",
    "x = [i.capitalize() for i in w]\n",
    "print(' '.join(x))"
   ]
  },
  {
   "cell_type": "code",
   "execution_count": 48,
   "id": "0a88e9a5",
   "metadata": {
    "ExecuteTime": {
     "end_time": "2022-10-08T21:10:16.082375Z",
     "start_time": "2022-10-08T21:10:16.065400Z"
    }
   },
   "outputs": [],
   "source": [
    "def solve(s):\n",
    "    words = s.split(\" \")\n",
    "    capitalized_words = [w.capitalize() for w in words]\n",
    "    return \" \".join(capitalized_words)"
   ]
  },
  {
   "cell_type": "code",
   "execution_count": 51,
   "id": "4a361e83",
   "metadata": {
    "ExecuteTime": {
     "end_time": "2022-10-08T21:20:51.820575Z",
     "start_time": "2022-10-08T21:20:51.809583Z"
    }
   },
   "outputs": [],
   "source": [
    "def capitalize(string):\n",
    "    s=\"\"\n",
    "    space=True\n",
    "    for x in string :\n",
    "        if space and x!=' ':\n",
    "            s=s+x.upper() \n",
    "            space=False\n",
    "        elif x==' ':\n",
    "            s=s+x\n",
    "            space=True\n",
    "        else :\n",
    "            s=s+x\n",
    "                    \n",
    "    return s "
   ]
  },
  {
   "cell_type": "code",
   "execution_count": 50,
   "id": "25813535",
   "metadata": {
    "ExecuteTime": {
     "end_time": "2022-10-08T21:20:49.151356Z",
     "start_time": "2022-10-08T21:20:49.138372Z"
    }
   },
   "outputs": [],
   "source": [
    "def capitalize(string):\n",
    "    s = ''\n",
    "    space = True\n",
    "    for i in string:\n",
    "        if space and i!=' ':\n",
    "            s= s+i.upper()\n",
    "            space = False\n",
    "        elif i == ' ':\n",
    "            s = s+i\n",
    "            space = True\n",
    "        else:\n",
    "            s = s+i\n",
    "    return s"
   ]
  },
  {
   "cell_type": "code",
   "execution_count": null,
   "id": "cc7a75f1",
   "metadata": {},
   "outputs": [],
   "source": []
  }
 ],
 "metadata": {
  "kernelspec": {
   "display_name": "Python 3 (ipykernel)",
   "language": "python",
   "name": "python3"
  },
  "language_info": {
   "codemirror_mode": {
    "name": "ipython",
    "version": 3
   },
   "file_extension": ".py",
   "mimetype": "text/x-python",
   "name": "python",
   "nbconvert_exporter": "python",
   "pygments_lexer": "ipython3",
   "version": "3.9.7"
  },
  "varInspector": {
   "cols": {
    "lenName": 16,
    "lenType": 16,
    "lenVar": 40
   },
   "kernels_config": {
    "python": {
     "delete_cmd_postfix": "",
     "delete_cmd_prefix": "del ",
     "library": "var_list.py",
     "varRefreshCmd": "print(var_dic_list())"
    },
    "r": {
     "delete_cmd_postfix": ") ",
     "delete_cmd_prefix": "rm(",
     "library": "var_list.r",
     "varRefreshCmd": "cat(var_dic_list()) "
    }
   },
   "types_to_exclude": [
    "module",
    "function",
    "builtin_function_or_method",
    "instance",
    "_Feature"
   ],
   "window_display": false
  }
 },
 "nbformat": 4,
 "nbformat_minor": 5
}
