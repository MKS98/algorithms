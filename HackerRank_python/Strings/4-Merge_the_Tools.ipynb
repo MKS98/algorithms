{
 "cells": [
  {
   "cell_type": "code",
   "execution_count": 7,
   "id": "11560f4d",
   "metadata": {
    "ExecuteTime": {
     "end_time": "2022-10-10T14:38:15.785609Z",
     "start_time": "2022-10-10T14:38:15.763622Z"
    }
   },
   "outputs": [],
   "source": [
    "def merge_the_tools(string, k):\n",
    "    for part in zip(*[iter(string)] * k):\n",
    "        d = dict()\n",
    "        print(''.join([ d.setdefault(c, c) for c in part if c not in d ]))"
   ]
  },
  {
   "cell_type": "code",
   "execution_count": 6,
   "id": "49ced7f5",
   "metadata": {
    "ExecuteTime": {
     "end_time": "2022-10-10T14:32:24.511313Z",
     "start_time": "2022-10-10T14:32:24.499320Z"
    }
   },
   "outputs": [
    {
     "name": "stdout",
     "output_type": "stream",
     "text": [
      "AB\n",
      "CA\n",
      "AD\n"
     ]
    }
   ],
   "source": [
    "s = 'AABCAAADA'\n",
    "k =3\n",
    "temp = []\n",
    "len_temp = 0\n",
    "for i in s:\n",
    "    len_temp+=1\n",
    "    if i not in temp:\n",
    "        temp.append(i)\n",
    "    if len_temp == k:\n",
    "        print(''.join(temp))\n",
    "        temp = []\n",
    "        len_temp = 0"
   ]
  },
  {
   "cell_type": "code",
   "execution_count": 8,
   "id": "55f1ce47",
   "metadata": {
    "ExecuteTime": {
     "end_time": "2022-10-10T14:40:06.877791Z",
     "start_time": "2022-10-10T14:40:06.867799Z"
    }
   },
   "outputs": [],
   "source": [
    "def merge_the_tools1(string, k):\n",
    "    \n",
    "    # your code goes here\n",
    "    s = int(len(string)/3)\n",
    "    lst = []\n",
    "\n",
    "    for i in range(s):\n",
    "        lst.append(string[i*3:3*(i+1)])\n",
    "        print(''.join(set(lst[i])))"
   ]
  },
  {
   "cell_type": "code",
   "execution_count": 9,
   "id": "fcdaddb0",
   "metadata": {
    "ExecuteTime": {
     "end_time": "2022-10-10T14:40:31.876738Z",
     "start_time": "2022-10-10T14:40:25.635466Z"
    }
   },
   "outputs": [
    {
     "name": "stdout",
     "output_type": "stream",
     "text": [
      "AABCAAADA\n",
      "3\n",
      "AB\n",
      "CA\n",
      "DA\n"
     ]
    }
   ],
   "source": [
    "if __name__ == '__main__':\n",
    "    string, k = input(), int(input())\n",
    "    merge_the_tools1(string, k)"
   ]
  },
  {
   "cell_type": "code",
   "execution_count": null,
   "id": "b0cab51d",
   "metadata": {},
   "outputs": [],
   "source": []
  }
 ],
 "metadata": {
  "kernelspec": {
   "display_name": "Python 3 (ipykernel)",
   "language": "python",
   "name": "python3"
  },
  "language_info": {
   "codemirror_mode": {
    "name": "ipython",
    "version": 3
   },
   "file_extension": ".py",
   "mimetype": "text/x-python",
   "name": "python",
   "nbconvert_exporter": "python",
   "pygments_lexer": "ipython3",
   "version": "3.9.7"
  },
  "varInspector": {
   "cols": {
    "lenName": 16,
    "lenType": 16,
    "lenVar": 40
   },
   "kernels_config": {
    "python": {
     "delete_cmd_postfix": "",
     "delete_cmd_prefix": "del ",
     "library": "var_list.py",
     "varRefreshCmd": "print(var_dic_list())"
    },
    "r": {
     "delete_cmd_postfix": ") ",
     "delete_cmd_prefix": "rm(",
     "library": "var_list.r",
     "varRefreshCmd": "cat(var_dic_list()) "
    }
   },
   "types_to_exclude": [
    "module",
    "function",
    "builtin_function_or_method",
    "instance",
    "_Feature"
   ],
   "window_display": false
  }
 },
 "nbformat": 4,
 "nbformat_minor": 5
}
