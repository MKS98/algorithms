{
 "cells": [
  {
   "cell_type": "code",
   "execution_count": 63,
   "id": "887ebc9a",
   "metadata": {
    "ExecuteTime": {
     "end_time": "2022-10-08T23:07:31.340268Z",
     "start_time": "2022-10-08T23:07:28.960864Z"
    }
   },
   "outputs": [
    {
     "name": "stdout",
     "output_type": "stream",
     "text": [
      "banana\n",
      "a\n",
      "an\n",
      "ana\n",
      "anan\n",
      "anana\n",
      "8\n"
     ]
    }
   ],
   "source": [
    "vowels = 'aeiou'\n",
    "constants = 'bcdfghjklmnpqrstvwxyz'\n",
    "s= input()\n",
    "\n",
    "def minion_game(s):\n",
    "    r=[]\n",
    "    b=''\n",
    "    count_k=0\n",
    "\n",
    "    for i in range(len(s)):\n",
    "        if s[i] in vowels:\n",
    "            a = s[i]\n",
    "            b= s[i+1:]\n",
    "            \n",
    "            break\n",
    "    d = a+b\n",
    "    r.append(d)\n",
    "    for i in range(len(b)):   \n",
    "        c = a+b[:-i]        \n",
    "        r.append(c)\n",
    "        r.sort()\n",
    "    for i in r:\n",
    "        if i in s:\n",
    "            count_k+= s.count(i)\n",
    "            print(i)\n",
    "\n",
    "    return count_k\n",
    "\n",
    "print(minion_game(s))"
   ]
  },
  {
   "cell_type": "code",
   "execution_count": null,
   "id": "53fded0d",
   "metadata": {},
   "outputs": [],
   "source": []
  }
 ],
 "metadata": {
  "kernelspec": {
   "display_name": "Python 3 (ipykernel)",
   "language": "python",
   "name": "python3"
  },
  "language_info": {
   "codemirror_mode": {
    "name": "ipython",
    "version": 3
   },
   "file_extension": ".py",
   "mimetype": "text/x-python",
   "name": "python",
   "nbconvert_exporter": "python",
   "pygments_lexer": "ipython3",
   "version": "3.9.7"
  },
  "varInspector": {
   "cols": {
    "lenName": 16,
    "lenType": 16,
    "lenVar": 40
   },
   "kernels_config": {
    "python": {
     "delete_cmd_postfix": "",
     "delete_cmd_prefix": "del ",
     "library": "var_list.py",
     "varRefreshCmd": "print(var_dic_list())"
    },
    "r": {
     "delete_cmd_postfix": ") ",
     "delete_cmd_prefix": "rm(",
     "library": "var_list.r",
     "varRefreshCmd": "cat(var_dic_list()) "
    }
   },
   "types_to_exclude": [
    "module",
    "function",
    "builtin_function_or_method",
    "instance",
    "_Feature"
   ],
   "window_display": false
  }
 },
 "nbformat": 4,
 "nbformat_minor": 5
}
