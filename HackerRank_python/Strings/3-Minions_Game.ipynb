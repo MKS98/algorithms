{
 "cells": [
  {
   "cell_type": "code",
   "execution_count": 3,
   "id": "887ebc9a",
   "metadata": {
    "ExecuteTime": {
     "end_time": "2022-10-10T00:06:12.902175Z",
     "start_time": "2022-10-10T00:06:11.140301Z"
    }
   },
   "outputs": [
    {
     "name": "stdout",
     "output_type": "stream",
     "text": [
      "banana\n",
      "[1, 1, 1, 1, 1]\n"
     ]
    }
   ],
   "source": [
    "vowels = 'aeiou'\n",
    "constants = 'bcdfghjklmnpqrstvwxyz'\n",
    "s= input()\n",
    "\n",
    "def minion_game(s):\n",
    "    r=[]\n",
    "    b=''\n",
    "    count_k=[]\n",
    "\n",
    "    for i in range(len(s)):\n",
    "        if s[i] in vowels:\n",
    "            a = s[i]\n",
    "            b= s[i+1:]\n",
    "            \n",
    "            break\n",
    "    d = a+b\n",
    "    r.append(d)\n",
    "    for i in range(len(b)):   \n",
    "        c = a+b[:-i]        \n",
    "        r.append(c)\n",
    "        r.sort()\n",
    "    for i in r:   \n",
    "        if s.find(i) != -1:\n",
    "            count_k.append(s.find(i))\n",
    "\n",
    "    return count_k\n",
    "\n",
    "print(minion_game(s))"
   ]
  },
  {
   "cell_type": "code",
   "execution_count": 20,
   "id": "53fded0d",
   "metadata": {
    "ExecuteTime": {
     "end_time": "2022-10-10T00:33:08.163421Z",
     "start_time": "2022-10-10T00:33:05.910474Z"
    }
   },
   "outputs": [
    {
     "name": "stdout",
     "output_type": "stream",
     "text": [
      "BANANA\n",
      "Stuart 12\n"
     ]
    }
   ],
   "source": [
    "def minion_game(string):\n",
    "    # your code goes here\n",
    "    vowels = 'AEIOU'\n",
    "\n",
    "    kevsc = 0\n",
    "    stusc = 0\n",
    "    for i in range(len(s)):\n",
    "        if s[i] in vowels:\n",
    "            kevsc += (len(s)-i)\n",
    "        else:\n",
    "            stusc += (len(s)-i)\n",
    "    if kevsc > stusc:\n",
    "        print (\"Kevin\", kevsc)\n",
    "    elif kevsc < stusc:\n",
    "        print (\"Stuart\", stusc)\n",
    "    else:\n",
    "        print (\"Draw\")\n",
    "\n",
    "if __name__ == '__main__':\n",
    "    s = input()\n",
    "    minion_game(s)"
   ]
  },
  {
   "cell_type": "code",
   "execution_count": 24,
   "id": "dbf8e4c8",
   "metadata": {
    "ExecuteTime": {
     "end_time": "2022-10-10T00:34:54.396442Z",
     "start_time": "2022-10-10T00:34:52.741563Z"
    }
   },
   "outputs": [
    {
     "name": "stdout",
     "output_type": "stream",
     "text": [
      "BANANA\n",
      "Stuart 12\n"
     ]
    }
   ],
   "source": [
    "def minion_game(string):\n",
    "    # your code goes here\n",
    "    vowels = 'AEIOU'\n",
    "    k , st = 0, 0\n",
    "    \n",
    "    for i in range(len(s)):\n",
    "        if s[i] in vowels:\n",
    "            k += (len(s)-i)\n",
    "        else:\n",
    "            st += (len(s)-i)\n",
    "    if k == st:\n",
    "        print('Draw')\n",
    "    elif k > st:\n",
    "        print (\"Kevin\", k)\n",
    "    else:\n",
    "        print (\"Stuart\", st)\n",
    "    \n",
    "\n",
    "    \n",
    "if __name__ == '__main__':\n",
    "    s = input()\n",
    "    minion_game(s)"
   ]
  },
  {
   "cell_type": "code",
   "execution_count": null,
   "id": "d55d1721",
   "metadata": {},
   "outputs": [],
   "source": []
  }
 ],
 "metadata": {
  "kernelspec": {
   "display_name": "Python 3 (ipykernel)",
   "language": "python",
   "name": "python3"
  },
  "language_info": {
   "codemirror_mode": {
    "name": "ipython",
    "version": 3
   },
   "file_extension": ".py",
   "mimetype": "text/x-python",
   "name": "python",
   "nbconvert_exporter": "python",
   "pygments_lexer": "ipython3",
   "version": "3.9.7"
  },
  "varInspector": {
   "cols": {
    "lenName": 16,
    "lenType": 16,
    "lenVar": 40
   },
   "kernels_config": {
    "python": {
     "delete_cmd_postfix": "",
     "delete_cmd_prefix": "del ",
     "library": "var_list.py",
     "varRefreshCmd": "print(var_dic_list())"
    },
    "r": {
     "delete_cmd_postfix": ") ",
     "delete_cmd_prefix": "rm(",
     "library": "var_list.r",
     "varRefreshCmd": "cat(var_dic_list()) "
    }
   },
   "types_to_exclude": [
    "module",
    "function",
    "builtin_function_or_method",
    "instance",
    "_Feature"
   ],
   "window_display": false
  }
 },
 "nbformat": 4,
 "nbformat_minor": 5
}
