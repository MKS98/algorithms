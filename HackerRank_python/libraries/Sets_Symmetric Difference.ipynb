{
 "cells": [
  {
   "cell_type": "code",
   "execution_count": 21,
   "id": "c30c3d24",
   "metadata": {
    "ExecuteTime": {
     "end_time": "2022-10-17T09:28:30.031745Z",
     "start_time": "2022-10-17T09:28:25.971273Z"
    }
   },
   "outputs": [
    {
     "name": "stdout",
     "output_type": "stream",
     "text": [
      "2\n",
      "1 3\n",
      "2\n",
      "1 2\n",
      "2\n",
      "3\n"
     ]
    }
   ],
   "source": [
    "m = int(input())\n",
    "sm = list(map(int, input().split()))[:m]\n",
    "sm = set(sm)\n",
    "n = int(input())\n",
    "sn = list(map(int, input().split()))[:n]\n",
    "sn = set(sn)\n",
    "\n",
    "a = list(sm.difference(sn))\n",
    "b = list(sn.difference(sm))\n",
    "res = a+b\n",
    "res.sort()\n",
    "for i in res:\n",
    "    print(i)"
   ]
  },
  {
   "cell_type": "code",
   "execution_count": 22,
   "id": "d11a7304",
   "metadata": {
    "ExecuteTime": {
     "end_time": "2022-10-17T09:30:58.022198Z",
     "start_time": "2022-10-17T09:30:53.714991Z"
    }
   },
   "outputs": [
    {
     "name": "stdout",
     "output_type": "stream",
     "text": [
      "2\n",
      "1 3\n",
      "2\n",
      "1 2\n",
      "2\n",
      "3\n"
     ]
    }
   ],
   "source": [
    "a,b=(int(input()),input().split())\n",
    "c,d=(int(input()),input().split())\n",
    "x=set(b)\n",
    "y=set(d)\n",
    "p=y.difference(x)\n",
    "q=x.difference(y)\n",
    "r=p.union(q)\n",
    "print ('\\n'.join(sorted(r, key=int)))"
   ]
  },
  {
   "cell_type": "code",
   "execution_count": null,
   "id": "ce4a296b",
   "metadata": {},
   "outputs": [],
   "source": []
  }
 ],
 "metadata": {
  "kernelspec": {
   "display_name": "Python 3 (ipykernel)",
   "language": "python",
   "name": "python3"
  },
  "language_info": {
   "codemirror_mode": {
    "name": "ipython",
    "version": 3
   },
   "file_extension": ".py",
   "mimetype": "text/x-python",
   "name": "python",
   "nbconvert_exporter": "python",
   "pygments_lexer": "ipython3",
   "version": "3.9.7"
  },
  "varInspector": {
   "cols": {
    "lenName": 16,
    "lenType": 16,
    "lenVar": 40
   },
   "kernels_config": {
    "python": {
     "delete_cmd_postfix": "",
     "delete_cmd_prefix": "del ",
     "library": "var_list.py",
     "varRefreshCmd": "print(var_dic_list())"
    },
    "r": {
     "delete_cmd_postfix": ") ",
     "delete_cmd_prefix": "rm(",
     "library": "var_list.r",
     "varRefreshCmd": "cat(var_dic_list()) "
    }
   },
   "types_to_exclude": [
    "module",
    "function",
    "builtin_function_or_method",
    "instance",
    "_Feature"
   ],
   "window_display": false
  }
 },
 "nbformat": 4,
 "nbformat_minor": 5
}
