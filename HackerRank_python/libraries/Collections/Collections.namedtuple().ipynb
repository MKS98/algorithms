{
 "cells": [
  {
   "cell_type": "code",
   "execution_count": null,
   "id": "346f7021",
   "metadata": {
    "ExecuteTime": {
     "end_time": "2022-10-14T17:00:51.392407Z",
     "start_time": "2022-10-14T17:00:51.375414Z"
    }
   },
   "outputs": [],
   "source": [
    "from collections import namedtuple"
   ]
  },
  {
   "cell_type": "code",
   "execution_count": null,
   "id": "043dfde9",
   "metadata": {
    "ExecuteTime": {
     "end_time": "2022-10-14T17:14:00.938900Z",
     "start_time": "2022-10-14T17:13:55.705055Z"
    }
   },
   "outputs": [],
   "source": [
    "n = int(input())\n",
    "fields = input().split()\n",
    "total = 0\n",
    "for i in range(n):\n",
    "    students = namedtuple('student', fields)\n",
    "    field1,field2,field3,field4 = input().split()\n",
    "    student = students(field1,field2,field3,field4)\n",
    "    total+= int(student.MARKS)\n",
    "print(total/n)"
   ]
  },
  {
   "cell_type": "code",
   "execution_count": null,
   "id": "77f9bd7c",
   "metadata": {},
   "outputs": [],
   "source": []
  }
 ],
 "metadata": {
  "kernelspec": {
   "display_name": "Python 3 (ipykernel)",
   "language": "python",
   "name": "python3"
  },
  "language_info": {
   "codemirror_mode": {
    "name": "ipython",
    "version": 3
   },
   "file_extension": ".py",
   "mimetype": "text/x-python",
   "name": "python",
   "nbconvert_exporter": "python",
   "pygments_lexer": "ipython3",
   "version": "3.9.7"
  },
  "varInspector": {
   "cols": {
    "lenName": 16,
    "lenType": 16,
    "lenVar": 40
   },
   "kernels_config": {
    "python": {
     "delete_cmd_postfix": "",
     "delete_cmd_prefix": "del ",
     "library": "var_list.py",
     "varRefreshCmd": "print(var_dic_list())"
    },
    "r": {
     "delete_cmd_postfix": ") ",
     "delete_cmd_prefix": "rm(",
     "library": "var_list.r",
     "varRefreshCmd": "cat(var_dic_list()) "
    }
   },
   "types_to_exclude": [
    "module",
    "function",
    "builtin_function_or_method",
    "instance",
    "_Feature"
   ],
   "window_display": false
  }
 },
 "nbformat": 4,
 "nbformat_minor": 5
}
