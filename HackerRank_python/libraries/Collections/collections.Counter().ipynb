{
 "cells": [
  {
   "cell_type": "code",
   "execution_count": 2,
   "id": "33d46151",
   "metadata": {
    "ExecuteTime": {
     "end_time": "2022-10-12T08:07:10.013297Z",
     "start_time": "2022-10-12T08:06:28.401514Z"
    }
   },
   "outputs": [
    {
     "name": "stdout",
     "output_type": "stream",
     "text": [
      "10\n",
      "2 3 4 5 6 8 7 6 5 18\n",
      "6\n",
      "6 55\n",
      "6 45\n",
      "6 55\n",
      "4 40\n",
      "18 60\n",
      "10 50\n",
      "[55, 45, 40, 60]\n"
     ]
    }
   ],
   "source": [
    "# my solution don`t know why not working though\n",
    "x= int(input())\n",
    "sizes = list(map(int, input().split()))\n",
    "n = int(input())\n",
    "price=[]\n",
    "for _ in range(n):\n",
    "    shoe_size = list(map(int, input().split()))\n",
    "    if shoe_size[0] in sizes and shoe_size[1] not in price:\n",
    "        price.append(shoe_size[1])\n",
    "print(sum(price))"
   ]
  },
  {
   "cell_type": "code",
   "execution_count": null,
   "id": "02406941",
   "metadata": {},
   "outputs": [],
   "source": [
    "import collections\n",
    "x= int(input())\n",
    "shoes = collections.Counter(map(int, input().split()))\n",
    "n = int(input())\n",
    "earnings = 0\n",
    "for i in range(n):\n",
    "    size, price = map(int, input().split())\n",
    "    if shoes[size]:\n",
    "        earnings+= price\n",
    "        shoes[size]-=1\n",
    "print(earnings)"
   ]
  },
  {
   "cell_type": "code",
   "execution_count": null,
   "id": "3fd5436a",
   "metadata": {},
   "outputs": [],
   "source": [
    "import collections\n",
    "\n",
    "numShoes = int(input())\n",
    "shoes = collections.Counter(map(int, input().split()))\n",
    "numCust = int(input())\n",
    "\n",
    "income = 0\n",
    "\n",
    "for i in range(numCust):\n",
    "    size, price = map(int, input().split())\n",
    "    if shoes[size]: \n",
    "        income += price\n",
    "        shoes[size] -= 1\n",
    "\n",
    "print (income)"
   ]
  }
 ],
 "metadata": {
  "kernelspec": {
   "display_name": "Python 3 (ipykernel)",
   "language": "python",
   "name": "python3"
  },
  "language_info": {
   "codemirror_mode": {
    "name": "ipython",
    "version": 3
   },
   "file_extension": ".py",
   "mimetype": "text/x-python",
   "name": "python",
   "nbconvert_exporter": "python",
   "pygments_lexer": "ipython3",
   "version": "3.9.7"
  },
  "varInspector": {
   "cols": {
    "lenName": 16,
    "lenType": 16,
    "lenVar": 40
   },
   "kernels_config": {
    "python": {
     "delete_cmd_postfix": "",
     "delete_cmd_prefix": "del ",
     "library": "var_list.py",
     "varRefreshCmd": "print(var_dic_list())"
    },
    "r": {
     "delete_cmd_postfix": ") ",
     "delete_cmd_prefix": "rm(",
     "library": "var_list.r",
     "varRefreshCmd": "cat(var_dic_list()) "
    }
   },
   "types_to_exclude": [
    "module",
    "function",
    "builtin_function_or_method",
    "instance",
    "_Feature"
   ],
   "window_display": false
  }
 },
 "nbformat": 4,
 "nbformat_minor": 5
}
