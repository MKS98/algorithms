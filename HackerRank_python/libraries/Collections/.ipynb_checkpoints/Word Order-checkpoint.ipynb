{
 "cells": [
  {
   "cell_type": "code",
   "execution_count": 24,
   "id": "6aeeeba4",
   "metadata": {
    "ExecuteTime": {
     "end_time": "2022-10-15T06:24:59.523267Z",
     "start_time": "2022-10-15T06:24:57.010773Z"
    }
   },
   "outputs": [
    {
     "name": "stdout",
     "output_type": "stream",
     "text": [
      "3\n",
      "as\n",
      "ac\n",
      "as\n",
      "2\n",
      "2 1 "
     ]
    }
   ],
   "source": [
    "n = int(input())\n",
    "l = {}\n",
    "for i in range(n):\n",
    "    w = input()\n",
    "    if w in l:\n",
    "        l[w]+=1\n",
    "    else:\n",
    "        l[w]=1\n",
    "print(len(l))\n",
    "for i in l:\n",
    "    print(l[i], end=' ')"
   ]
  },
  {
   "cell_type": "code",
   "execution_count": 25,
   "id": "a0c650ab",
   "metadata": {
    "ExecuteTime": {
     "end_time": "2022-10-15T06:31:18.798372Z",
     "start_time": "2022-10-15T06:31:15.073968Z"
    }
   },
   "outputs": [
    {
     "name": "stdout",
     "output_type": "stream",
     "text": [
      "3\n",
      "as\n",
      "ac\n",
      "as\n",
      "2\n",
      "2 1\n"
     ]
    }
   ],
   "source": [
    "from collections import OrderedDict\n",
    "words = OrderedDict()\n",
    "\n",
    "for _ in range(int(input())):\n",
    "    word = input()\n",
    "    words.setdefault(word, 0)\n",
    "    words[word] += 1\n",
    "print(len(words))  \n",
    "print(*words.values())"
   ]
  },
  {
   "cell_type": "code",
   "execution_count": null,
   "id": "28c41a2c",
   "metadata": {},
   "outputs": [],
   "source": [
    "if __name__ == '__main__':\n",
    "    data = {}\n",
    "    for _ in range(int(input())):\n",
    "        value = input()\n",
    "        data.setdefault(value, 0)\n",
    "        data[value] += 1\n",
    "    \n",
    "    print(len(data))\n",
    "    print(*data.values())"
   ]
  },
  {
   "cell_type": "code",
   "execution_count": 27,
   "id": "7dc4950a",
   "metadata": {
    "ExecuteTime": {
     "end_time": "2022-10-15T06:33:57.349344Z",
     "start_time": "2022-10-15T06:33:55.138183Z"
    }
   },
   "outputs": [
    {
     "name": "stdout",
     "output_type": "stream",
     "text": [
      "3\n",
      "as\n",
      "ac\n",
      "as\n",
      "2\n",
      "2 1\n"
     ]
    }
   ],
   "source": [
    "n = int(input())\n",
    "d = {}\n",
    "for i in range(n):\n",
    "    w = input()\n",
    "    d.setdefault(w,0)\n",
    "    d[w]+=1\n",
    "print(len(d))\n",
    "print(*d.values())"
   ]
  },
  {
   "cell_type": "code",
   "execution_count": null,
   "id": "859ce67f",
   "metadata": {},
   "outputs": [],
   "source": []
  },
  {
   "cell_type": "code",
   "execution_count": null,
   "id": "b3ec1a05",
   "metadata": {},
   "outputs": [],
   "source": []
  }
 ],
 "metadata": {
  "kernelspec": {
   "display_name": "Python 3 (ipykernel)",
   "language": "python",
   "name": "python3"
  },
  "language_info": {
   "codemirror_mode": {
    "name": "ipython",
    "version": 3
   },
   "file_extension": ".py",
   "mimetype": "text/x-python",
   "name": "python",
   "nbconvert_exporter": "python",
   "pygments_lexer": "ipython3",
   "version": "3.9.7"
  },
  "varInspector": {
   "cols": {
    "lenName": 16,
    "lenType": 16,
    "lenVar": 40
   },
   "kernels_config": {
    "python": {
     "delete_cmd_postfix": "",
     "delete_cmd_prefix": "del ",
     "library": "var_list.py",
     "varRefreshCmd": "print(var_dic_list())"
    },
    "r": {
     "delete_cmd_postfix": ") ",
     "delete_cmd_prefix": "rm(",
     "library": "var_list.r",
     "varRefreshCmd": "cat(var_dic_list()) "
    }
   },
   "types_to_exclude": [
    "module",
    "function",
    "builtin_function_or_method",
    "instance",
    "_Feature"
   ],
   "window_display": false
  }
 },
 "nbformat": 4,
 "nbformat_minor": 5
}
