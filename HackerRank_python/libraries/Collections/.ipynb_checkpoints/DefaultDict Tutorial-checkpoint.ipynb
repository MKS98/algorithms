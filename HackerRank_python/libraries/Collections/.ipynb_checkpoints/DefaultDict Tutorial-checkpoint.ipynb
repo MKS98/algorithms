{
 "cells": [
  {
   "cell_type": "markdown",
   "id": "217fbd87",
   "metadata": {},
   "source": [
    "https://www.thepoorcoder.com/hackerrank-defaultdict-solution/"
   ]
  },
  {
   "cell_type": "code",
   "execution_count": 10,
   "id": "f6600ec4",
   "metadata": {
    "ExecuteTime": {
     "end_time": "2022-10-13T07:43:58.356670Z",
     "start_time": "2022-10-13T07:43:45.475703Z"
    }
   },
   "outputs": [
    {
     "name": "stdout",
     "output_type": "stream",
     "text": [
      "3 2\n",
      "a\n",
      "b\n",
      "a\n",
      "1 3\n",
      "1 3\n"
     ]
    }
   ],
   "source": [
    "from collections import defaultdict\n",
    "n, m = map(int, input().split())\n",
    "d = defaultdict(list)\n",
    "for i in range(n):\n",
    "    d[input()].append(i+1)\n",
    "for i in range(m):\n",
    "    print(*d[input()] or [-1])"
   ]
  },
  {
   "cell_type": "code",
   "execution_count": 11,
   "id": "5c15a539",
   "metadata": {
    "ExecuteTime": {
     "end_time": "2022-10-13T07:46:30.902849Z",
     "start_time": "2022-10-13T07:46:24.931871Z"
    }
   },
   "outputs": [
    {
     "name": "stdout",
     "output_type": "stream",
     "text": [
      "3 2\n",
      "a\n",
      "b\n",
      "a\n",
      "a\n",
      "1 3\n",
      "c\n",
      "-1\n"
     ]
    }
   ],
   "source": [
    "from collections import defaultdict\n",
    "n, m = map(int, input().split())\n",
    "d = defaultdict(list)\n",
    "for i in range(1,n+1): # i+1 to start the value in dict with 1 instead of 0\n",
    "    d[input()].append(i)\n",
    "for i in range(m):\n",
    "    print(*d[input()] or [-1])"
   ]
  },
  {
   "cell_type": "code",
   "execution_count": null,
   "id": "40b8c1a5",
   "metadata": {},
   "outputs": [],
   "source": []
  }
 ],
 "metadata": {
  "kernelspec": {
   "display_name": "Python 3 (ipykernel)",
   "language": "python",
   "name": "python3"
  },
  "language_info": {
   "codemirror_mode": {
    "name": "ipython",
    "version": 3
   },
   "file_extension": ".py",
   "mimetype": "text/x-python",
   "name": "python",
   "nbconvert_exporter": "python",
   "pygments_lexer": "ipython3",
   "version": "3.9.7"
  },
  "varInspector": {
   "cols": {
    "lenName": 16,
    "lenType": 16,
    "lenVar": 40
   },
   "kernels_config": {
    "python": {
     "delete_cmd_postfix": "",
     "delete_cmd_prefix": "del ",
     "library": "var_list.py",
     "varRefreshCmd": "print(var_dic_list())"
    },
    "r": {
     "delete_cmd_postfix": ") ",
     "delete_cmd_prefix": "rm(",
     "library": "var_list.r",
     "varRefreshCmd": "cat(var_dic_list()) "
    }
   },
   "types_to_exclude": [
    "module",
    "function",
    "builtin_function_or_method",
    "instance",
    "_Feature"
   ],
   "window_display": false
  }
 },
 "nbformat": 4,
 "nbformat_minor": 5
}
