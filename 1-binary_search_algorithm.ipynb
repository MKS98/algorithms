{
 "cells": [
  {
   "cell_type": "markdown",
   "id": "407bcd8f",
   "metadata": {},
   "source": [
    "# Binary Search Algorithm"
   ]
  },
  {
   "cell_type": "markdown",
   "id": "e85784c6",
   "metadata": {},
   "source": [
    "## it is used to find a target in a sorted list:\n",
    "#####     Note that the list have to be sorted for this to work\n",
    "##### big O(log(n)) type"
   ]
  },
  {
   "cell_type": "code",
   "execution_count": 1,
   "id": "db38889e",
   "metadata": {
    "ExecuteTime": {
     "end_time": "2022-10-06T15:19:50.287945Z",
     "start_time": "2022-10-06T15:19:50.280963Z"
    }
   },
   "outputs": [],
   "source": [
    "data = [2,4,5,7,8,9,12,14,17,19,22,25,27,28,33,37]   # sorted list\n",
    "target = 28"
   ]
  },
  {
   "cell_type": "markdown",
   "id": "913eeccb",
   "metadata": {},
   "source": [
    "#### Linear search\n",
    "###### big o(n)"
   ]
  },
  {
   "cell_type": "code",
   "execution_count": null,
   "id": "2834448f",
   "metadata": {
    "ExecuteTime": {
     "end_time": "2022-09-15T16:03:43.886688Z",
     "start_time": "2022-09-15T16:03:43.874695Z"
    }
   },
   "outputs": [],
   "source": [
    "def linear_search(data, target):\n",
    "    for i in range(len(data)):\n",
    "        if data[i] == target:\n",
    "            return True\n",
    "    return False"
   ]
  },
  {
   "cell_type": "markdown",
   "id": "f59ec664",
   "metadata": {},
   "source": [
    "#### Iterative Binary Search"
   ]
  },
  {
   "cell_type": "code",
   "execution_count": null,
   "id": "01d2d67e",
   "metadata": {
    "ExecuteTime": {
     "end_time": "2022-09-15T16:11:45.966433Z",
     "start_time": "2022-09-15T16:11:45.951458Z"
    }
   },
   "outputs": [],
   "source": [
    "def binary_search_iterative(data, target):\n",
    "    low= 0\n",
    "    high = len(data) - 1\n",
    "    while low <= high:\n",
    "        mid = (low +high)//2\n",
    "        if target == data[mid]:\n",
    "            return True\n",
    "        elif target < data[mid]:\n",
    "            high = mid - 1\n",
    "        else:\n",
    "            low = mid + 1\n",
    "    return False"
   ]
  },
  {
   "cell_type": "markdown",
   "id": "79a8351f",
   "metadata": {},
   "source": [
    "#### Recursive Binary Search"
   ]
  },
  {
   "cell_type": "code",
   "execution_count": null,
   "id": "fd120dd4",
   "metadata": {
    "ExecuteTime": {
     "end_time": "2022-09-15T17:51:48.901225Z",
     "start_time": "2022-09-15T17:51:48.880235Z"
    }
   },
   "outputs": [],
   "source": [
    "def binary_search_recursive(data, target, low, high):\n",
    "    if low > high:\n",
    "        return False\n",
    "    else:\n",
    "        mid = (low +high)//2\n",
    "        if target == data[mid]:\n",
    "            return True\n",
    "        elif target < data[mid]:\n",
    "            return binary_search_recursive(data, target, low, mid-1)\n",
    "        else:\n",
    "            return binary_search_recursive(data, target, mid+1, high)\n"
   ]
  },
  {
   "cell_type": "code",
   "execution_count": null,
   "id": "0cadcc24",
   "metadata": {
    "ExecuteTime": {
     "end_time": "2022-09-15T17:54:10.338861Z",
     "start_time": "2022-09-15T17:54:10.331865Z"
    }
   },
   "outputs": [],
   "source": [
    "print(binary_search_iterative(data, target))\n",
    "print(binary_search_recursive(data, target, 0, len(data)-1))"
   ]
  },
  {
   "cell_type": "code",
   "execution_count": 4,
   "id": "5bc47b93",
   "metadata": {
    "ExecuteTime": {
     "end_time": "2022-10-06T15:20:18.310370Z",
     "start_time": "2022-10-06T15:20:18.296375Z"
    }
   },
   "outputs": [],
   "source": [
    "def recursive_search(data, target, low, high):\n",
    "    if low > high:\n",
    "        return False\n",
    "    else:\n",
    "        mid = (low+high)//2\n",
    "        if target == data[mid]:\n",
    "            return True\n",
    "        elif target > data[mid]:\n",
    "            return recursive_search(data, target, mid+1, high)\n",
    "        else:\n",
    "            return recursive_search(data, target, )\n",
    "\n",
    "    "
   ]
  },
  {
   "cell_type": "code",
   "execution_count": 9,
   "id": "3574b8dd",
   "metadata": {
    "ExecuteTime": {
     "end_time": "2022-10-06T15:20:51.149660Z",
     "start_time": "2022-10-06T15:20:51.144648Z"
    }
   },
   "outputs": [
    {
     "name": "stdout",
     "output_type": "stream",
     "text": [
      "True\n"
     ]
    }
   ],
   "source": [
    "print(iterative_search(data, 5))"
   ]
  },
  {
   "cell_type": "code",
   "execution_count": null,
   "id": "3aba682d",
   "metadata": {},
   "outputs": [],
   "source": []
  }
 ],
 "metadata": {
  "kernelspec": {
   "display_name": "Python 3 (ipykernel)",
   "language": "python",
   "name": "python3"
  },
  "language_info": {
   "codemirror_mode": {
    "name": "ipython",
    "version": 3
   },
   "file_extension": ".py",
   "mimetype": "text/x-python",
   "name": "python",
   "nbconvert_exporter": "python",
   "pygments_lexer": "ipython3",
   "version": "3.9.7"
  },
  "varInspector": {
   "cols": {
    "lenName": 16,
    "lenType": 16,
    "lenVar": 40
   },
   "kernels_config": {
    "python": {
     "delete_cmd_postfix": "",
     "delete_cmd_prefix": "del ",
     "library": "var_list.py",
     "varRefreshCmd": "print(var_dic_list())"
    },
    "r": {
     "delete_cmd_postfix": ") ",
     "delete_cmd_prefix": "rm(",
     "library": "var_list.r",
     "varRefreshCmd": "cat(var_dic_list()) "
    }
   },
   "types_to_exclude": [
    "module",
    "function",
    "builtin_function_or_method",
    "instance",
    "_Feature"
   ],
   "window_display": false
  }
 },
 "nbformat": 4,
 "nbformat_minor": 5
}
