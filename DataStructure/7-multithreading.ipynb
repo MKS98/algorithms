{
 "cells": [
  {
   "cell_type": "markdown",
   "id": "0da7860f",
   "metadata": {},
   "source": [
    "## Multithreading\n",
    "* for a given list of numbers print square and cube of every number"
   ]
  },
  {
   "cell_type": "code",
   "execution_count": 2,
   "id": "2fb2877d",
   "metadata": {
    "ExecuteTime": {
     "end_time": "2022-11-16T15:58:27.863791Z",
     "start_time": "2022-11-16T15:58:27.848785Z"
    }
   },
   "outputs": [],
   "source": [
    "import time\n",
    "import threading"
   ]
  },
  {
   "cell_type": "code",
   "execution_count": 11,
   "id": "da91e6b9",
   "metadata": {
    "ExecuteTime": {
     "end_time": "2022-11-16T16:06:20.723073Z",
     "start_time": "2022-11-16T16:06:19.861305Z"
    }
   },
   "outputs": [
    {
     "name": "stdout",
     "output_type": "stream",
     "text": [
      "claculate square numbers\n",
      "claculate cube numbers\n",
      "square: cube: 8\n",
      "4\n",
      "square:cube: 27\n",
      " 9\n",
      "cube:square: 64\n",
      " 512\n",
      "cube:square: 81\n",
      " 729\n",
      "done in :  0.8457770347595215\n",
      "Hah... iam done with all my work now!\n"
     ]
    }
   ],
   "source": [
    "def calc_square(number):\n",
    "    print(\"claculate square numbers\")\n",
    "    for n in number:\n",
    "        time.sleep(0.2)\n",
    "        print('square:', n*n)\n",
    "\n",
    "def calc_cube(number):\n",
    "    print(\"claculate cube numbers\")\n",
    "    for n in number:\n",
    "        time.sleep(0.2)\n",
    "        print('cube:', n*n*n)\n",
    "        \n",
    "arr = [2,3,8,9]\n",
    "\n",
    "t = time.time()\n",
    "t1 = threading.Thread(target=calc_square,args=(arr,))\n",
    "t2 = threading.Thread(target=calc_cube,args=(arr,))\n",
    "\n",
    "t1.start()\n",
    "t2.start()\n",
    "t1.join()\n",
    "t2.join()\n",
    "print(\"done in : \", time.time() - t)\n",
    "print(\"Hah... iam done with all my work now!\")"
   ]
  },
  {
   "cell_type": "markdown",
   "id": "2be31889",
   "metadata": {},
   "source": [
    "#### * local time"
   ]
  },
  {
   "cell_type": "code",
   "execution_count": 8,
   "id": "0304aeff",
   "metadata": {
    "ExecuteTime": {
     "end_time": "2022-11-16T16:04:30.421876Z",
     "start_time": "2022-11-16T16:04:30.404882Z"
    }
   },
   "outputs": [
    {
     "data": {
      "text/plain": [
       "'2022-11-16 18:04:30'"
      ]
     },
     "execution_count": 8,
     "metadata": {},
     "output_type": "execute_result"
    }
   ],
   "source": [
    "t =time.time()\n",
    "time.strftime('%Y-%m-%d %H:%M:%S', time.localtime(t))"
   ]
  },
  {
   "cell_type": "code",
   "execution_count": null,
   "id": "dd7dcde1",
   "metadata": {},
   "outputs": [],
   "source": []
  }
 ],
 "metadata": {
  "kernelspec": {
   "display_name": "Python 3 (ipykernel)",
   "language": "python",
   "name": "python3"
  },
  "language_info": {
   "codemirror_mode": {
    "name": "ipython",
    "version": 3
   },
   "file_extension": ".py",
   "mimetype": "text/x-python",
   "name": "python",
   "nbconvert_exporter": "python",
   "pygments_lexer": "ipython3",
   "version": "3.9.7"
  },
  "varInspector": {
   "cols": {
    "lenName": 16,
    "lenType": 16,
    "lenVar": 40
   },
   "kernels_config": {
    "python": {
     "delete_cmd_postfix": "",
     "delete_cmd_prefix": "del ",
     "library": "var_list.py",
     "varRefreshCmd": "print(var_dic_list())"
    },
    "r": {
     "delete_cmd_postfix": ") ",
     "delete_cmd_prefix": "rm(",
     "library": "var_list.r",
     "varRefreshCmd": "cat(var_dic_list()) "
    }
   },
   "types_to_exclude": [
    "module",
    "function",
    "builtin_function_or_method",
    "instance",
    "_Feature"
   ],
   "window_display": false
  }
 },
 "nbformat": 4,
 "nbformat_minor": 5
}
