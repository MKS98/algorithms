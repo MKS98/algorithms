{
 "cells": [
  {
   "cell_type": "code",
   "execution_count": 11,
   "id": "6eb308c2",
   "metadata": {
    "ExecuteTime": {
     "end_time": "2022-11-16T16:12:35.903313Z",
     "start_time": "2022-11-16T16:12:35.890320Z"
    }
   },
   "outputs": [],
   "source": [
    "from collections import deque\n",
    "import time\n",
    "import threading"
   ]
  },
  {
   "cell_type": "code",
   "execution_count": 8,
   "id": "f28493d0",
   "metadata": {
    "ExecuteTime": {
     "end_time": "2022-11-16T16:11:12.346756Z",
     "start_time": "2022-11-16T16:11:12.338763Z"
    }
   },
   "outputs": [],
   "source": [
    "class Queue:\n",
    "    def __init__(self):\n",
    "        self.buffer = deque()\n",
    "    \n",
    "    def enqueue(self, val):\n",
    "        self.buffer.appendleft(val)\n",
    "    \n",
    "    def dequeue(self):\n",
    "        self.buffer.pop()\n",
    "    \n",
    "    def is_empty(self):\n",
    "        return len(self.buffer)==0\n",
    "    \n",
    "    def size(self):\n",
    "        return len(self.buffer)\n",
    "q = Queue()"
   ]
  },
  {
   "cell_type": "code",
   "execution_count": 54,
   "id": "c671aeb7",
   "metadata": {
    "ExecuteTime": {
     "end_time": "2022-11-16T16:33:10.115798Z",
     "start_time": "2022-11-16T16:33:10.107805Z"
    }
   },
   "outputs": [],
   "source": [
    "def place_order(a):\n",
    "    for i in a:\n",
    "        print(\"placing order for: \", i)\n",
    "        q.enqueue(i)\n",
    "        time.sleep(0.5)\n",
    "#     time.sleep(1)\n",
    "#     while q.is_empty == False:\n",
    "#         print(\"Now serving: \", order)\n",
    "#         order = q.dequeue()\n",
    "#         time.sleep(2)\n",
    "        "
   ]
  },
  {
   "cell_type": "code",
   "execution_count": 60,
   "id": "696f665b",
   "metadata": {
    "ExecuteTime": {
     "end_time": "2022-11-16T16:34:39.632318Z",
     "start_time": "2022-11-16T16:34:39.611334Z"
    }
   },
   "outputs": [],
   "source": [
    "def serve_order(a):\n",
    "    time.sleep(1)\n",
    "    print(q)\n",
    "    while q.is_empty == False:\n",
    "        \n",
    "        order = q.dequeue()\n",
    "        print(\"Now serving: \", q)\n",
    "        time.sleep(2)"
   ]
  },
  {
   "cell_type": "code",
   "execution_count": 61,
   "id": "84603ad7",
   "metadata": {
    "ExecuteTime": {
     "end_time": "2022-11-16T16:34:43.696317Z",
     "start_time": "2022-11-16T16:34:41.132326Z"
    }
   },
   "outputs": [
    {
     "name": "stdout",
     "output_type": "stream",
     "text": [
      "placing order for:  pizza\n",
      "placing order for:  samosa\n",
      "Queue is empty\n",
      "Now serving:  None\n",
      "<__main__.Queue object at 0x000001F110B310A0>\n",
      "placing order for:  pasta\n",
      "placing order for:  biryani\n",
      "placing order for:  burger\n",
      "done in :  2.545994997024536\n"
     ]
    }
   ],
   "source": [
    "orders = ['pizza','samosa','pasta','biryani','burger']\n",
    "t1 = threading.Thread(target=place_order, args=(orders,))\n",
    "t2 = threading.Thread(target=serve_order, args=(q,))\n",
    "t = time.time()\n",
    "t1.start()\n",
    "t2.start()\n",
    "t1.join()\n",
    "t2.join()\n",
    "print(\"done in : \", time.time() - t)"
   ]
  },
  {
   "cell_type": "code",
   "execution_count": null,
   "id": "bb610aa0",
   "metadata": {},
   "outputs": [],
   "source": []
  }
 ],
 "metadata": {
  "kernelspec": {
   "display_name": "Python 3 (ipykernel)",
   "language": "python",
   "name": "python3"
  },
  "language_info": {
   "codemirror_mode": {
    "name": "ipython",
    "version": 3
   },
   "file_extension": ".py",
   "mimetype": "text/x-python",
   "name": "python",
   "nbconvert_exporter": "python",
   "pygments_lexer": "ipython3",
   "version": "3.9.7"
  },
  "varInspector": {
   "cols": {
    "lenName": 16,
    "lenType": 16,
    "lenVar": 40
   },
   "kernels_config": {
    "python": {
     "delete_cmd_postfix": "",
     "delete_cmd_prefix": "del ",
     "library": "var_list.py",
     "varRefreshCmd": "print(var_dic_list())"
    },
    "r": {
     "delete_cmd_postfix": ") ",
     "delete_cmd_prefix": "rm(",
     "library": "var_list.r",
     "varRefreshCmd": "cat(var_dic_list()) "
    }
   },
   "types_to_exclude": [
    "module",
    "function",
    "builtin_function_or_method",
    "instance",
    "_Feature"
   ],
   "window_display": false
  }
 },
 "nbformat": 4,
 "nbformat_minor": 5
}
