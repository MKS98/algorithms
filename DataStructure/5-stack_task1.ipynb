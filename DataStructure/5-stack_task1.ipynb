{
 "cells": [
  {
   "cell_type": "code",
   "execution_count": 1,
   "id": "322e1906",
   "metadata": {
    "ExecuteTime": {
     "end_time": "2022-11-13T16:08:02.305394Z",
     "start_time": "2022-11-13T16:08:02.291400Z"
    }
   },
   "outputs": [],
   "source": [
    "from collections import deque\n",
    "\n",
    "class Stack:\n",
    "    def __init__(self):\n",
    "        self.container = deque()\n",
    "\n",
    "    def push(self, val):\n",
    "        self.container.append(val)\n",
    "\n",
    "    def pop(self):\n",
    "        return self.container.pop()\n",
    "\n",
    "    def peek(self):\n",
    "        return self.container[-1]\n",
    "\n",
    "    def is_empty(self):\n",
    "        return len(self.container) == 0\n",
    "\n",
    "    def size(self):\n",
    "        return len(self.container)\n",
    "\n",
    "def reverse_string(s):\n",
    "    stack = Stack()\n",
    "\n",
    "    for ch in s:\n",
    "        stack.push(ch)\n",
    "\n",
    "    rstr = ''\n",
    "    while stack.size()!=0:\n",
    "        rstr += stack.pop()\n",
    "\n",
    "    return rstr"
   ]
  },
  {
   "cell_type": "code",
   "execution_count": 2,
   "id": "e6612807",
   "metadata": {
    "ExecuteTime": {
     "end_time": "2022-11-13T16:08:11.692973Z",
     "start_time": "2022-11-13T16:08:11.682967Z"
    }
   },
   "outputs": [
    {
     "name": "stdout",
     "output_type": "stream",
     "text": [
      "91-IVOC ereuqnoc lliw eW\n",
      "gnik eht ma I\n"
     ]
    }
   ],
   "source": [
    "if __name__ == '__main__':\n",
    "    print(reverse_string(\"We will conquere COVI-19\"))\n",
    "    print(reverse_string(\"I am the king\"))"
   ]
  },
  {
   "cell_type": "code",
   "execution_count": null,
   "id": "a6080069",
   "metadata": {},
   "outputs": [],
   "source": []
  }
 ],
 "metadata": {
  "kernelspec": {
   "display_name": "Python 3 (ipykernel)",
   "language": "python",
   "name": "python3"
  },
  "language_info": {
   "codemirror_mode": {
    "name": "ipython",
    "version": 3
   },
   "file_extension": ".py",
   "mimetype": "text/x-python",
   "name": "python",
   "nbconvert_exporter": "python",
   "pygments_lexer": "ipython3",
   "version": "3.9.7"
  },
  "varInspector": {
   "cols": {
    "lenName": 16,
    "lenType": 16,
    "lenVar": 40
   },
   "kernels_config": {
    "python": {
     "delete_cmd_postfix": "",
     "delete_cmd_prefix": "del ",
     "library": "var_list.py",
     "varRefreshCmd": "print(var_dic_list())"
    },
    "r": {
     "delete_cmd_postfix": ") ",
     "delete_cmd_prefix": "rm(",
     "library": "var_list.r",
     "varRefreshCmd": "cat(var_dic_list()) "
    }
   },
   "types_to_exclude": [
    "module",
    "function",
    "builtin_function_or_method",
    "instance",
    "_Feature"
   ],
   "window_display": false
  }
 },
 "nbformat": 4,
 "nbformat_minor": 5
}
