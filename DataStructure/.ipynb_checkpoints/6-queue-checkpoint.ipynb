{
 "cells": [
  {
   "cell_type": "markdown",
   "id": "b546b1ef",
   "metadata": {},
   "source": [
    "# Queue usage with Lists:\n",
    "### first in first out (FIFO)\n",
    "\n",
    "* to add use .insert()\n",
    "* to remove use .pop()\n",
    "\n",
    "##### have same memory issues as dynamic array "
   ]
  },
  {
   "cell_type": "code",
   "execution_count": 1,
   "id": "47e466f4",
   "metadata": {
    "ExecuteTime": {
     "end_time": "2022-11-16T14:08:53.030389Z",
     "start_time": "2022-11-16T14:08:53.022395Z"
    }
   },
   "outputs": [],
   "source": [
    "stock = []"
   ]
  },
  {
   "cell_type": "code",
   "execution_count": 2,
   "id": "e375d296",
   "metadata": {
    "ExecuteTime": {
     "end_time": "2022-11-16T14:09:16.327879Z",
     "start_time": "2022-11-16T14:09:16.313883Z"
    }
   },
   "outputs": [],
   "source": [
    "stock.insert(0, 131)\n",
    "stock.insert(0, 132)\n",
    "stock.insert(0, 130)"
   ]
  },
  {
   "cell_type": "code",
   "execution_count": 4,
   "id": "12e11b68",
   "metadata": {
    "ExecuteTime": {
     "end_time": "2022-11-16T14:09:39.884999Z",
     "start_time": "2022-11-16T14:09:39.866014Z"
    }
   },
   "outputs": [
    {
     "data": {
      "text/plain": [
       "131"
      ]
     },
     "execution_count": 4,
     "metadata": {},
     "output_type": "execute_result"
    }
   ],
   "source": [
    "stock.pop()"
   ]
  },
  {
   "cell_type": "markdown",
   "id": "ccab5442",
   "metadata": {},
   "source": [
    "# Queue using deque from collections:\n",
    "\n",
    "* .appendleft() is used to add elements in queue\n",
    "* .pop() is used here also bcz it you alrdy inserted at left"
   ]
  },
  {
   "cell_type": "code",
   "execution_count": 5,
   "id": "a0c063ee",
   "metadata": {
    "ExecuteTime": {
     "end_time": "2022-11-16T14:13:07.850368Z",
     "start_time": "2022-11-16T14:13:07.833374Z"
    }
   },
   "outputs": [],
   "source": [
    "from collections import deque\n",
    "q = deque()"
   ]
  },
  {
   "cell_type": "code",
   "execution_count": 7,
   "id": "fa08111c",
   "metadata": {
    "ExecuteTime": {
     "end_time": "2022-11-16T14:16:37.360038Z",
     "start_time": "2022-11-16T14:16:37.351046Z"
    }
   },
   "outputs": [],
   "source": [
    "q.appendleft(5)\n",
    "q.appendleft(6)\n",
    "q.appendleft(7)"
   ]
  },
  {
   "cell_type": "code",
   "execution_count": 8,
   "id": "fabec442",
   "metadata": {
    "ExecuteTime": {
     "end_time": "2022-11-16T14:16:47.115925Z",
     "start_time": "2022-11-16T14:16:47.094922Z"
    }
   },
   "outputs": [
    {
     "data": {
      "text/plain": [
       "5"
      ]
     },
     "execution_count": 8,
     "metadata": {},
     "output_type": "execute_result"
    }
   ],
   "source": [
    "q.pop()"
   ]
  },
  {
   "cell_type": "markdown",
   "id": "1b782f72",
   "metadata": {},
   "source": [
    "# my own class:"
   ]
  },
  {
   "cell_type": "code",
   "execution_count": 9,
   "id": "5d9bb025",
   "metadata": {
    "ExecuteTime": {
     "end_time": "2022-11-16T14:19:42.974069Z",
     "start_time": "2022-11-16T14:19:42.952069Z"
    }
   },
   "outputs": [],
   "source": [
    "class Queue:\n",
    "    def __init__(self):\n",
    "        self.buffer = deque()\n",
    "    \n",
    "    def enqueue(self, val):\n",
    "        self.buffer.appendleft(val)\n",
    "    \n",
    "    def dequeue(self):\n",
    "        self.buffer.pop()\n",
    "    \n",
    "    def is_empty(self):\n",
    "        return len(self.buffer)==0\n",
    "    \n",
    "    def size(self):\n",
    "        return len(self.buffer)"
   ]
  },
  {
   "cell_type": "code",
   "execution_count": null,
   "id": "93f68cae",
   "metadata": {},
   "outputs": [],
   "source": []
  }
 ],
 "metadata": {
  "kernelspec": {
   "display_name": "Python 3 (ipykernel)",
   "language": "python",
   "name": "python3"
  },
  "language_info": {
   "codemirror_mode": {
    "name": "ipython",
    "version": 3
   },
   "file_extension": ".py",
   "mimetype": "text/x-python",
   "name": "python",
   "nbconvert_exporter": "python",
   "pygments_lexer": "ipython3",
   "version": "3.9.7"
  },
  "varInspector": {
   "cols": {
    "lenName": 16,
    "lenType": 16,
    "lenVar": 40
   },
   "kernels_config": {
    "python": {
     "delete_cmd_postfix": "",
     "delete_cmd_prefix": "del ",
     "library": "var_list.py",
     "varRefreshCmd": "print(var_dic_list())"
    },
    "r": {
     "delete_cmd_postfix": ") ",
     "delete_cmd_prefix": "rm(",
     "library": "var_list.r",
     "varRefreshCmd": "cat(var_dic_list()) "
    }
   },
   "types_to_exclude": [
    "module",
    "function",
    "builtin_function_or_method",
    "instance",
    "_Feature"
   ],
   "window_display": false
  }
 },
 "nbformat": 4,
 "nbformat_minor": 5
}
