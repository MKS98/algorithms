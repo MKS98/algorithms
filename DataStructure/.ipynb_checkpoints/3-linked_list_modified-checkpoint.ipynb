{
 "cells": [
  {
   "cell_type": "code",
   "execution_count": 1,
   "id": "a25d46d6",
   "metadata": {
    "ExecuteTime": {
     "end_time": "2022-11-06T14:15:41.328922Z",
     "start_time": "2022-11-06T14:15:41.315343Z"
    }
   },
   "outputs": [],
   "source": [
    "class Node:\n",
    "    def __init__(self, data=None, next=None):\n",
    "        self.data = data\n",
    "        self.next = next"
   ]
  },
  {
   "cell_type": "code",
   "execution_count": 2,
   "id": "750e716c",
   "metadata": {
    "ExecuteTime": {
     "end_time": "2022-11-06T14:15:41.360915Z",
     "start_time": "2022-11-06T14:15:41.331921Z"
    }
   },
   "outputs": [],
   "source": [
    "class LinkedList:\n",
    "    def __init__(self):\n",
    "        # head is first item, tail is the end point (None)\n",
    "        self.head = None\n",
    "        \n",
    "    def insert_at_begining(self, data):\n",
    "        # insert first item in empty list\n",
    "        node = Node(data, self.head)\n",
    "        # make head = new insertion\n",
    "        self.head = node\n",
    "    \n",
    "    def insert_at_end(self, data):\n",
    "        # in case list is empty insert the first item\n",
    "        if self.head is None:\n",
    "            self.head = Node(data, None)\n",
    "            return\n",
    "        # itr from the head till next, next until you no next insert item\n",
    "        itr = self.head\n",
    "        while itr.next:\n",
    "            itr = itr.next\n",
    "        itr.next = Node(data, None)\n",
    "        \n",
    "    def insert_values_list(self, data_list):\n",
    "        self.head = None\n",
    "        for i in data_list:\n",
    "            self.insert_at_end(i)\n",
    "    \n",
    "    def get_length(self):\n",
    "        count = 0\n",
    "        itr = self.head\n",
    "        while itr:\n",
    "            count+=1\n",
    "            itr = itr.next\n",
    "        return count\n",
    "    \n",
    "    def remove_at(self, index):\n",
    "        if index < 0 or index >= self.get_length():\n",
    "            raise Exception(\"Invalid Index\")\n",
    "        # remove the head in the list\n",
    "        ##! good thing about python that it will do garbage collection for you not like c or c++ where\n",
    "        ##!              have to do garbage collection yourself and free the ram of what you remove\n",
    "        if index == 0: \n",
    "            self.head = self.head.next\n",
    "            return\n",
    "        \n",
    "        count = 0\n",
    "        itr = self.head\n",
    "        while itr:\n",
    "            # move the pointer to the next next of the element before the on i want to remove\n",
    "            if count == index - 1:\n",
    "                itr.next = itr.next.next\n",
    "                break\n",
    "            itr = itr.next\n",
    "            count += 1\n",
    "    def insert_at(self, index, data):\n",
    "        if index <0 or index> self.get_length():\n",
    "            raise Exception(\"Invalid Index\")\n",
    "        \n",
    "        if index == 0:\n",
    "            self.insert_at_begining(data)\n",
    "        \n",
    "        count = 0\n",
    "        itr = self.head\n",
    "        while itr:\n",
    "            if count == index -1:\n",
    "                # create the node for the data we want to insert and make it point to the next itr of the index\n",
    "                node = Node(data, itr.next)\n",
    "                # make the index-1 pointer be on our new node\n",
    "                itr.next = node\n",
    "                break\n",
    "                \n",
    "            itr = itr.next\n",
    "            count += 1\n",
    "    # insert node after given data  \n",
    "    def insert_after_value(self, data_after, data_to_insert):\n",
    "        if self.head == None:\n",
    "            return\n",
    "        if self.head.data == data_after:\n",
    "            self.head.next = Node(data_to_insert, self.head.next)\n",
    "            return\n",
    "        \n",
    "        itr = self.head\n",
    "        while itr:\n",
    "            if itr.data == data_after:\n",
    "                itr.next = Node(data_to_insert, itr.next)\n",
    "                break\n",
    "            itr = itr.next\n",
    "    \n",
    "    def remove_by_value(self, data):\n",
    "        if self.head == None:\n",
    "            return\n",
    "        if self.head == data:\n",
    "            self.head = self.head.next\n",
    "            return\n",
    "        \n",
    "        itr = self.head\n",
    "        while itr.next:\n",
    "            if itr.next.data == data:\n",
    "                itr.next = itr.next.next\n",
    "                break\n",
    "        itr = itr.next\n",
    "        \n",
    "                \n",
    "  \n",
    "    def prints(self):\n",
    "        if self.head is None:\n",
    "            print('Linked list is empty')\n",
    "            return\n",
    "        itr = self.head\n",
    "        llstr = ''\n",
    "        while itr:\n",
    "            llstr += str(itr.data) + '--> '\n",
    "            itr = itr.next\n",
    "        print(llstr)"
   ]
  },
  {
   "cell_type": "code",
   "execution_count": null,
   "id": "f92c6148",
   "metadata": {
    "ExecuteTime": {
     "start_time": "2022-11-06T14:15:41.245Z"
    }
   },
   "outputs": [],
   "source": [
    "ll = LinkedList()\n",
    "ll.insert_values_list([\"a\",'b','c'])\n",
    "# print(ll.get_length())\n",
    "ll.insert_after_value(\"a\", \"5\")\n",
    "ll.insert_after_value(\"a\", \"6\")\n",
    "# ll.remove_by_value(\"5\")\n",
    "ll.prints()"
   ]
  },
  {
   "cell_type": "code",
   "execution_count": null,
   "id": "429a2eba",
   "metadata": {},
   "outputs": [],
   "source": []
  }
 ],
 "metadata": {
  "kernelspec": {
   "display_name": "Python 3 (ipykernel)",
   "language": "python",
   "name": "python3"
  },
  "language_info": {
   "codemirror_mode": {
    "name": "ipython",
    "version": 3
   },
   "file_extension": ".py",
   "mimetype": "text/x-python",
   "name": "python",
   "nbconvert_exporter": "python",
   "pygments_lexer": "ipython3",
   "version": "3.9.7"
  },
  "varInspector": {
   "cols": {
    "lenName": 16,
    "lenType": 16,
    "lenVar": 40
   },
   "kernels_config": {
    "python": {
     "delete_cmd_postfix": "",
     "delete_cmd_prefix": "del ",
     "library": "var_list.py",
     "varRefreshCmd": "print(var_dic_list())"
    },
    "r": {
     "delete_cmd_postfix": ") ",
     "delete_cmd_prefix": "rm(",
     "library": "var_list.r",
     "varRefreshCmd": "cat(var_dic_list()) "
    }
   },
   "types_to_exclude": [
    "module",
    "function",
    "builtin_function_or_method",
    "instance",
    "_Feature"
   ],
   "window_display": false
  }
 },
 "nbformat": 4,
 "nbformat_minor": 5
}
