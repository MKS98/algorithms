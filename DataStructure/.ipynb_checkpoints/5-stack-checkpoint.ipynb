{
 "cells": [
  {
   "cell_type": "markdown",
   "id": "15c9f036",
   "metadata": {},
   "source": [
    "# Stack is a LIFO(last in first out) datastructure:"
   ]
  },
  {
   "cell_type": "markdown",
   "id": "3bcd34d2",
   "metadata": {},
   "source": [
    "### Implementation using list:"
   ]
  },
  {
   "cell_type": "markdown",
   "id": "b9f25c09",
   "metadata": {},
   "source": [
    "#### the issue is lists are dynamic array and it allocate memory it also needs to copy the existing elements into the new memory"
   ]
  },
  {
   "cell_type": "code",
   "execution_count": 5,
   "id": "6d0aa0b9",
   "metadata": {
    "ExecuteTime": {
     "end_time": "2022-11-08T14:58:53.955373Z",
     "start_time": "2022-11-08T14:58:53.944380Z"
    }
   },
   "outputs": [],
   "source": [
    "s = []\n",
    "s.append('https://www.cnn.com/')\n",
    "s.append('https://www.cnn.com/world')\n",
    "s.append('https://www.cnn.com/china')\n",
    "s.append('https://www.cnn.com/india')"
   ]
  },
  {
   "cell_type": "code",
   "execution_count": 6,
   "id": "c4f813b5",
   "metadata": {
    "ExecuteTime": {
     "end_time": "2022-11-08T14:58:54.684443Z",
     "start_time": "2022-11-08T14:58:54.663458Z"
    }
   },
   "outputs": [
    {
     "data": {
      "text/plain": [
       "['https://www.cnn.com/',\n",
       " 'https://www.cnn.com/world',\n",
       " 'https://www.cnn.com/china']"
      ]
     },
     "execution_count": 6,
     "metadata": {},
     "output_type": "execute_result"
    }
   ],
   "source": [
    "s.pop()\n",
    "s"
   ]
  },
  {
   "cell_type": "markdown",
   "id": "2ed71e32",
   "metadata": {},
   "source": [
    "## the best is to use collcetions.deque in python as it is implemented using doubly linked list which solve the memory issue:\n",
    "\n",
    "* .append() is used in stack to add elements .appendleft is used in queue\n",
    "* .pop() to remove elements"
   ]
  },
  {
   "cell_type": "code",
   "execution_count": 19,
   "id": "b093b0fe",
   "metadata": {
    "ExecuteTime": {
     "end_time": "2022-11-13T16:07:20.422531Z",
     "start_time": "2022-11-13T16:07:20.418532Z"
    }
   },
   "outputs": [],
   "source": [
    "from collections import deque\n",
    "stack = deque()"
   ]
  },
  {
   "cell_type": "code",
   "execution_count": 11,
   "id": "bdd6ff94",
   "metadata": {
    "ExecuteTime": {
     "end_time": "2022-11-08T15:00:41.595237Z",
     "start_time": "2022-11-08T15:00:41.575249Z"
    },
    "collapsed": true
   },
   "outputs": [
    {
     "data": {
      "text/plain": [
       "['__add__',\n",
       " '__bool__',\n",
       " '__class__',\n",
       " '__class_getitem__',\n",
       " '__contains__',\n",
       " '__copy__',\n",
       " '__delattr__',\n",
       " '__delitem__',\n",
       " '__dir__',\n",
       " '__doc__',\n",
       " '__eq__',\n",
       " '__format__',\n",
       " '__ge__',\n",
       " '__getattribute__',\n",
       " '__getitem__',\n",
       " '__gt__',\n",
       " '__hash__',\n",
       " '__iadd__',\n",
       " '__imul__',\n",
       " '__init__',\n",
       " '__init_subclass__',\n",
       " '__iter__',\n",
       " '__le__',\n",
       " '__len__',\n",
       " '__lt__',\n",
       " '__mul__',\n",
       " '__ne__',\n",
       " '__new__',\n",
       " '__reduce__',\n",
       " '__reduce_ex__',\n",
       " '__repr__',\n",
       " '__reversed__',\n",
       " '__rmul__',\n",
       " '__setattr__',\n",
       " '__setitem__',\n",
       " '__sizeof__',\n",
       " '__str__',\n",
       " '__subclasshook__',\n",
       " 'append',\n",
       " 'appendleft',\n",
       " 'clear',\n",
       " 'copy',\n",
       " 'count',\n",
       " 'extend',\n",
       " 'extendleft',\n",
       " 'index',\n",
       " 'insert',\n",
       " 'maxlen',\n",
       " 'pop',\n",
       " 'popleft',\n",
       " 'remove',\n",
       " 'reverse',\n",
       " 'rotate']"
      ]
     },
     "execution_count": 11,
     "metadata": {},
     "output_type": "execute_result"
    }
   ],
   "source": [
    "dir(stack)"
   ]
  },
  {
   "cell_type": "code",
   "execution_count": 12,
   "id": "c7fbeccd",
   "metadata": {
    "ExecuteTime": {
     "end_time": "2022-11-08T15:00:43.353491Z",
     "start_time": "2022-11-08T15:00:43.334503Z"
    }
   },
   "outputs": [],
   "source": [
    "stack.append('https://www.cnn.com/')\n",
    "stack.append('https://www.cnn.com/world')\n",
    "stack.append('https://www.cnn.com/china')\n",
    "stack.append('https://www.cnn.com/india')"
   ]
  },
  {
   "cell_type": "code",
   "execution_count": 13,
   "id": "5f08c36f",
   "metadata": {
    "ExecuteTime": {
     "end_time": "2022-11-08T15:00:54.339554Z",
     "start_time": "2022-11-08T15:00:54.326564Z"
    }
   },
   "outputs": [
    {
     "data": {
      "text/plain": [
       "deque(['https://www.cnn.com/',\n",
       "       'https://www.cnn.com/world',\n",
       "       'https://www.cnn.com/china',\n",
       "       'https://www.cnn.com/india'])"
      ]
     },
     "execution_count": 13,
     "metadata": {},
     "output_type": "execute_result"
    }
   ],
   "source": [
    "stack"
   ]
  },
  {
   "cell_type": "code",
   "execution_count": 14,
   "id": "5d9bc05e",
   "metadata": {
    "ExecuteTime": {
     "end_time": "2022-11-08T15:01:03.735514Z",
     "start_time": "2022-11-08T15:01:03.719519Z"
    }
   },
   "outputs": [
    {
     "data": {
      "text/plain": [
       "'https://www.cnn.com/india'"
      ]
     },
     "execution_count": 14,
     "metadata": {},
     "output_type": "execute_result"
    }
   ],
   "source": [
    "stack.pop()"
   ]
  },
  {
   "cell_type": "code",
   "execution_count": 15,
   "id": "6f0805b6",
   "metadata": {
    "ExecuteTime": {
     "end_time": "2022-11-08T15:01:06.676706Z",
     "start_time": "2022-11-08T15:01:06.664713Z"
    }
   },
   "outputs": [
    {
     "data": {
      "text/plain": [
       "deque(['https://www.cnn.com/',\n",
       "       'https://www.cnn.com/world',\n",
       "       'https://www.cnn.com/china'])"
      ]
     },
     "execution_count": 15,
     "metadata": {},
     "output_type": "execute_result"
    }
   ],
   "source": [
    "stack"
   ]
  }
 ],
 "metadata": {
  "kernelspec": {
   "display_name": "Python 3 (ipykernel)",
   "language": "python",
   "name": "python3"
  },
  "language_info": {
   "codemirror_mode": {
    "name": "ipython",
    "version": 3
   },
   "file_extension": ".py",
   "mimetype": "text/x-python",
   "name": "python",
   "nbconvert_exporter": "python",
   "pygments_lexer": "ipython3",
   "version": "3.9.7"
  },
  "varInspector": {
   "cols": {
    "lenName": 16,
    "lenType": 16,
    "lenVar": 40
   },
   "kernels_config": {
    "python": {
     "delete_cmd_postfix": "",
     "delete_cmd_prefix": "del ",
     "library": "var_list.py",
     "varRefreshCmd": "print(var_dic_list())"
    },
    "r": {
     "delete_cmd_postfix": ") ",
     "delete_cmd_prefix": "rm(",
     "library": "var_list.r",
     "varRefreshCmd": "cat(var_dic_list()) "
    }
   },
   "types_to_exclude": [
    "module",
    "function",
    "builtin_function_or_method",
    "instance",
    "_Feature"
   ],
   "window_display": false
  }
 },
 "nbformat": 4,
 "nbformat_minor": 5
}
