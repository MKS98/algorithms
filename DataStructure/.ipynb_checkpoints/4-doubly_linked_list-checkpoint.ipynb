{
 "cells": [
  {
   "cell_type": "code",
   "execution_count": 1,
   "id": "24034602",
   "metadata": {
    "ExecuteTime": {
     "end_time": "2022-11-07T04:47:58.595284Z",
     "start_time": "2022-11-07T04:47:58.578295Z"
    }
   },
   "outputs": [],
   "source": [
    "class Node:\n",
    "    def __init__(self, data=None, next=None, prev = None):\n",
    "        self.data = data\n",
    "        self.next = next\n",
    "        self.prev = prev"
   ]
  },
  {
   "cell_type": "code",
   "execution_count": 38,
   "id": "f8d45854",
   "metadata": {
    "ExecuteTime": {
     "end_time": "2022-11-07T07:20:05.288229Z",
     "start_time": "2022-11-07T07:20:05.249228Z"
    }
   },
   "outputs": [],
   "source": [
    "class DoublyLinkedList:\n",
    "    def __init__(self):\n",
    "        # head is first item, tail is the end point (None)\n",
    "        self.head = None\n",
    "        \n",
    "    def insert_at_begining(self, data):\n",
    "        if self.head is None:\n",
    "            node = Node(data, self.head, None)\n",
    "            self.head = node\n",
    "        else:\n",
    "            node = Node(data, self.head, None)\n",
    "            self.head.prev = node\n",
    "            node = self.head\n",
    "    \n",
    "    def insert_at_end(self, data):\n",
    "        # in case list is empty insert the first item\n",
    "        if self.head is None:\n",
    "            self.head = Node(data, None)\n",
    "            return\n",
    "        # itr from the head till next, next until you no next insert item\n",
    "        itr = self.head\n",
    "        while itr.next:\n",
    "            itr = itr.next\n",
    "        itr.next = Node(data, None, itr) # same thing next line but different syntax\n",
    "#         node = Node(data,None,itr)\n",
    "#         itr.next = node\n",
    "        \n",
    "    def insert_values_list(self, data_list):\n",
    "        self.head = None\n",
    "        for i in data_list:\n",
    "            self.insert_at_end(i)\n",
    "    \n",
    "    def get_length(self):\n",
    "        count = 0\n",
    "        itr = self.head\n",
    "        while itr:\n",
    "            count+=1\n",
    "            itr = itr.next\n",
    "        return count\n",
    "\n",
    "    def insert_at(self, index, data):\n",
    "        if index <0 or index> self.get_length():\n",
    "            raise Exception(\"Invalid Index\")\n",
    "        \n",
    "        if index == 0:\n",
    "            self.insert_at_begining(data)\n",
    "        \n",
    "        count = 0\n",
    "        itr = self.head\n",
    "        while itr:\n",
    "            if count == index -1:\n",
    "                node = Node(data, itr.next, itr)\n",
    "                if node.next:\n",
    "                    node.next.prev = node\n",
    "                itr.next = node\n",
    "                break\n",
    "\n",
    "            itr = itr.next\n",
    "            count += 1\n",
    "            \n",
    "    def remove_at(self, index):\n",
    "        if index < 0 or index >= self.get_length():\n",
    "            raise Exception(\"Invalid Index\")\n",
    "        # remove the head in the list\n",
    "        ##! good thing about python that it will do garbage collection for you not like c or c++ where\n",
    "        ##!              have to do garbage collection yourself and free the ram of what you remove\n",
    "        if index == 0:\n",
    "            self.head = self.head.next\n",
    "            self.head.prev = None\n",
    "            return\n",
    "        \n",
    "        count = 0\n",
    "        itr = self.head\n",
    "        while itr:\n",
    "            # move the pointer to the next next of the element before the on i want to remove\n",
    "            if count == index:\n",
    "                itr.prev.next = itr.next\n",
    "                if itr.next:\n",
    "                    itr.next.prev = itr.prev\n",
    "                break\n",
    "            itr = itr.next\n",
    "            count += 1  \n",
    "            \n",
    "    def get_last_node(self):\n",
    "        itr = self.head\n",
    "        while itr.next:\n",
    "            itr = itr.next\n",
    "        return itr\n",
    "    \n",
    "    def print_forward(self):\n",
    "        if self.head is None:\n",
    "            print('Linked list is empty')\n",
    "            return\n",
    "        itr = self.head\n",
    "        llstr = ''\n",
    "        while itr:\n",
    "            llstr += '<--' +str(itr.data) + '--> '\n",
    "            itr = itr.next\n",
    "        print(llstr)\n",
    "    \n",
    "    def print_backward(self):\n",
    "        if self.head is None:\n",
    "            print('Linked list is empty')\n",
    "        return\n",
    "        \n",
    "        last_node = self.get_last_node()\n",
    "        itr = last_node\n",
    "        llstr = ''\n",
    "        while itr.prev:\n",
    "            llstr += itr.data + '-->'\n",
    "            itr = itr.prev\n",
    "        print(\"Link list in reverse: \", llstr)\n",
    "#         itr = self.get_last_node()\n",
    "#         llstr = ''\n",
    "#         while itr:\n",
    "#             llstr += '<---'+ itr.data +'--->'\n",
    "#             itr = itr.prev\n",
    "#         print(llstr)"
   ]
  },
  {
   "cell_type": "code",
   "execution_count": 39,
   "id": "f2158e8d",
   "metadata": {
    "ExecuteTime": {
     "end_time": "2022-11-07T07:20:06.547882Z",
     "start_time": "2022-11-07T07:20:06.527895Z"
    }
   },
   "outputs": [],
   "source": [
    "ll = DoublyLinkedList()"
   ]
  },
  {
   "cell_type": "code",
   "execution_count": 40,
   "id": "242e0a7e",
   "metadata": {
    "ExecuteTime": {
     "end_time": "2022-11-07T07:20:07.163486Z",
     "start_time": "2022-11-07T07:20:07.152493Z"
    }
   },
   "outputs": [
    {
     "name": "stdout",
     "output_type": "stream",
     "text": [
      "<--a--> <--b--> <--c--> \n"
     ]
    }
   ],
   "source": [
    "ll.insert_values_list([\"a\",'b','c'])\n",
    "# print(ll.get_length())\n",
    "ll.print_backward()\n",
    "ll.print_forward()"
   ]
  },
  {
   "cell_type": "code",
   "execution_count": null,
   "id": "47805a8e",
   "metadata": {},
   "outputs": [],
   "source": []
  }
 ],
 "metadata": {
  "kernelspec": {
   "display_name": "Python 3 (ipykernel)",
   "language": "python",
   "name": "python3"
  },
  "language_info": {
   "codemirror_mode": {
    "name": "ipython",
    "version": 3
   },
   "file_extension": ".py",
   "mimetype": "text/x-python",
   "name": "python",
   "nbconvert_exporter": "python",
   "pygments_lexer": "ipython3",
   "version": "3.9.7"
  },
  "varInspector": {
   "cols": {
    "lenName": 16,
    "lenType": 16,
    "lenVar": 40
   },
   "kernels_config": {
    "python": {
     "delete_cmd_postfix": "",
     "delete_cmd_prefix": "del ",
     "library": "var_list.py",
     "varRefreshCmd": "print(var_dic_list())"
    },
    "r": {
     "delete_cmd_postfix": ") ",
     "delete_cmd_prefix": "rm(",
     "library": "var_list.r",
     "varRefreshCmd": "cat(var_dic_list()) "
    }
   },
   "types_to_exclude": [
    "module",
    "function",
    "builtin_function_or_method",
    "instance",
    "_Feature"
   ],
   "window_display": false
  }
 },
 "nbformat": 4,
 "nbformat_minor": 5
}
