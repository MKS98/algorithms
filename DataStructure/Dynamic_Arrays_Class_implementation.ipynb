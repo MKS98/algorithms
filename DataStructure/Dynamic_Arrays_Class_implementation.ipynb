{
 "cells": [
  {
   "cell_type": "code",
   "execution_count": 1,
   "id": "306c3ccf",
   "metadata": {
    "ExecuteTime": {
     "end_time": "2022-10-19T11:01:39.203572Z",
     "start_time": "2022-10-19T11:01:39.184568Z"
    }
   },
   "outputs": [],
   "source": [
    "class DynamicArray(object):\n",
    "    def __init__(self):\n",
    "        # actual number of elements in dynamic array\n",
    "        self.size = 0\n",
    "        # maximum capacity of the dynamic array\n",
    "        self.capacity = 1\n",
    "        self.array = self._create_array(self.capacity)\n",
    "    def __len__(self):\n",
    "        '''len(array): returns the length of the array'''\n",
    "        return self.size\n",
    "    def __getitem__(self, index):\n",
    "        '''array[index]: returns the element at given index '''\n",
    "        if not 0 <= index <self.size:\n",
    "            raise IndexError('Given index: {0} is larger than array size {1}'.format(index,self.size))\n",
    "        \n",
    "        return self.array[index]\n",
    "    def _create_array(self, length):\n",
    "        '''creat the array with given size'''\n",
    "        return [None]* length\n",
    "    def _resize(self, new_capacity):\n",
    "        '''resuze the array to the new capacity'''\n",
    "        new_array = selff._create_array(new_capacity)\n",
    "        # reassign the elements in the old array into the new one\n",
    "        for i in range(self.size):\n",
    "            new_array[i] = self.array[i]\n",
    "        self.array = new_array\n",
    "        self.capacity = new_capacity\n",
    "    def append(self, element):\n",
    "        '''add a new element to the end of the array'''\n",
    "        if self.size == self.capacity:\n",
    "            self._resize(2*self.capacity)\n",
    "        self.array[self.size] = element\n",
    "        self.size +=1\n",
    "    def pop(self):\n",
    "        '''pop the last element from the end of the array'''\n",
    "        element = None\n",
    "        if self.size >0:\n",
    "            element = self.array[self.size-1]\n",
    "            self.array[self.size-1] = None\n",
    "            self.size-=1\n",
    "            \n",
    "            if self.size< self.capacity //4:\n",
    "                self._resize(self.capacity//2)\n",
    "        return element"
   ]
  },
  {
   "cell_type": "code",
   "execution_count": null,
   "id": "58296596",
   "metadata": {},
   "outputs": [],
   "source": []
  }
 ],
 "metadata": {
  "kernelspec": {
   "display_name": "Python 3 (ipykernel)",
   "language": "python",
   "name": "python3"
  },
  "language_info": {
   "codemirror_mode": {
    "name": "ipython",
    "version": 3
   },
   "file_extension": ".py",
   "mimetype": "text/x-python",
   "name": "python",
   "nbconvert_exporter": "python",
   "pygments_lexer": "ipython3",
   "version": "3.9.7"
  },
  "varInspector": {
   "cols": {
    "lenName": 16,
    "lenType": 16,
    "lenVar": 40
   },
   "kernels_config": {
    "python": {
     "delete_cmd_postfix": "",
     "delete_cmd_prefix": "del ",
     "library": "var_list.py",
     "varRefreshCmd": "print(var_dic_list())"
    },
    "r": {
     "delete_cmd_postfix": ") ",
     "delete_cmd_prefix": "rm(",
     "library": "var_list.r",
     "varRefreshCmd": "cat(var_dic_list()) "
    }
   },
   "types_to_exclude": [
    "module",
    "function",
    "builtin_function_or_method",
    "instance",
    "_Feature"
   ],
   "window_display": false
  }
 },
 "nbformat": 4,
 "nbformat_minor": 5
}
