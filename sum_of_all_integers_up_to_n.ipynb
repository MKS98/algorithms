{
 "cells": [
  {
   "cell_type": "markdown",
   "id": "054754b4",
   "metadata": {},
   "source": [
    "# Sum of all integers up to (n) Algorithm"
   ]
  },
  {
   "cell_type": "markdown",
   "id": "8e4f8a9c",
   "metadata": {},
   "source": [
    "### Mathematical:"
   ]
  },
  {
   "cell_type": "code",
   "execution_count": 13,
   "id": "cb1516e9",
   "metadata": {
    "ExecuteTime": {
     "end_time": "2022-10-06T18:48:26.707294Z",
     "start_time": "2022-10-06T18:48:26.701294Z"
    }
   },
   "outputs": [],
   "source": [
    "def sum_math(n):\n",
    "    return int(n*(n+1)/2)"
   ]
  },
  {
   "cell_type": "markdown",
   "id": "08f551d7",
   "metadata": {},
   "source": [
    "### Iterative:"
   ]
  },
  {
   "cell_type": "code",
   "execution_count": 5,
   "id": "41cf61e6",
   "metadata": {
    "ExecuteTime": {
     "end_time": "2022-10-06T18:47:25.787581Z",
     "start_time": "2022-10-06T18:47:25.773590Z"
    }
   },
   "outputs": [],
   "source": [
    "def sum_iter(n):\n",
    "    result =0\n",
    "    for i in range (n+1):\n",
    "        result +=i\n",
    "    return result"
   ]
  },
  {
   "cell_type": "code",
   "execution_count": 3,
   "id": "a87e5677",
   "metadata": {
    "ExecuteTime": {
     "end_time": "2022-10-06T18:46:51.738208Z",
     "start_time": "2022-10-06T18:46:51.726201Z"
    }
   },
   "outputs": [],
   "source": [
    "def sum_recursive(n):\n",
    "    if n == 0:\n",
    "        return 0\n",
    "    else:\n",
    "        return n + sum(n-1)"
   ]
  },
  {
   "cell_type": "code",
   "execution_count": 15,
   "id": "768c69b5",
   "metadata": {
    "ExecuteTime": {
     "end_time": "2022-10-06T18:48:48.447718Z",
     "start_time": "2022-10-06T18:48:48.428731Z"
    }
   },
   "outputs": [
    {
     "name": "stdout",
     "output_type": "stream",
     "text": [
      "10\n",
      "10\n",
      "10\n"
     ]
    }
   ],
   "source": [
    "print(sum_math(4))\n",
    "print(sum_iter(4))\n",
    "print(sum_recursive(4))"
   ]
  },
  {
   "cell_type": "code",
   "execution_count": null,
   "id": "c3fa9848",
   "metadata": {},
   "outputs": [],
   "source": []
  }
 ],
 "metadata": {
  "kernelspec": {
   "display_name": "Python 3 (ipykernel)",
   "language": "python",
   "name": "python3"
  },
  "language_info": {
   "codemirror_mode": {
    "name": "ipython",
    "version": 3
   },
   "file_extension": ".py",
   "mimetype": "text/x-python",
   "name": "python",
   "nbconvert_exporter": "python",
   "pygments_lexer": "ipython3",
   "version": "3.9.7"
  },
  "varInspector": {
   "cols": {
    "lenName": 16,
    "lenType": 16,
    "lenVar": 40
   },
   "kernels_config": {
    "python": {
     "delete_cmd_postfix": "",
     "delete_cmd_prefix": "del ",
     "library": "var_list.py",
     "varRefreshCmd": "print(var_dic_list())"
    },
    "r": {
     "delete_cmd_postfix": ") ",
     "delete_cmd_prefix": "rm(",
     "library": "var_list.r",
     "varRefreshCmd": "cat(var_dic_list()) "
    }
   },
   "types_to_exclude": [
    "module",
    "function",
    "builtin_function_or_method",
    "instance",
    "_Feature"
   ],
   "window_display": false
  }
 },
 "nbformat": 4,
 "nbformat_minor": 5
}
