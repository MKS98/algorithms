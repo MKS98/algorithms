{
 "cells": [
  {
   "cell_type": "code",
   "execution_count": 3,
   "id": "5b7978b3",
   "metadata": {
    "ExecuteTime": {
     "end_time": "2022-10-13T13:34:53.701916Z",
     "start_time": "2022-10-13T13:34:53.695904Z"
    }
   },
   "outputs": [],
   "source": [
    "s = 'LucidProgramming'"
   ]
  },
  {
   "cell_type": "code",
   "execution_count": 3,
   "id": "498db777",
   "metadata": {
    "ExecuteTime": {
     "end_time": "2022-10-13T13:07:22.273708Z",
     "start_time": "2022-10-13T13:07:22.261717Z"
    }
   },
   "outputs": [],
   "source": [
    "def iterative_str_len(s):\n",
    "    count = 0\n",
    "    for i in s:\n",
    "        count+=1\n",
    "    return count"
   ]
  },
  {
   "cell_type": "code",
   "execution_count": 4,
   "id": "af92d0b4",
   "metadata": {
    "ExecuteTime": {
     "end_time": "2022-10-13T13:07:29.626587Z",
     "start_time": "2022-10-13T13:07:29.620591Z"
    }
   },
   "outputs": [
    {
     "name": "stdout",
     "output_type": "stream",
     "text": [
      "16\n"
     ]
    }
   ],
   "source": [
    "print(iterative_str_len(s))"
   ]
  },
  {
   "cell_type": "code",
   "execution_count": 1,
   "id": "a339ab27",
   "metadata": {
    "ExecuteTime": {
     "end_time": "2022-10-13T13:34:49.809929Z",
     "start_time": "2022-10-13T13:34:49.788926Z"
    }
   },
   "outputs": [],
   "source": [
    "def recursive_str_len(s):\n",
    "    if s == '':\n",
    "        return 0\n",
    "    return 1 + recursive_str_len(s[1:])\n"
   ]
  },
  {
   "cell_type": "code",
   "execution_count": 4,
   "id": "9c0e00fd",
   "metadata": {
    "ExecuteTime": {
     "end_time": "2022-10-13T13:34:55.034807Z",
     "start_time": "2022-10-13T13:34:55.022810Z"
    }
   },
   "outputs": [
    {
     "name": "stdout",
     "output_type": "stream",
     "text": [
      "16\n"
     ]
    }
   ],
   "source": [
    "print(recursive_str_len(s))"
   ]
  }
 ],
 "metadata": {
  "kernelspec": {
   "display_name": "Python 3 (ipykernel)",
   "language": "python",
   "name": "python3"
  },
  "language_info": {
   "codemirror_mode": {
    "name": "ipython",
    "version": 3
   },
   "file_extension": ".py",
   "mimetype": "text/x-python",
   "name": "python",
   "nbconvert_exporter": "python",
   "pygments_lexer": "ipython3",
   "version": "3.9.7"
  },
  "varInspector": {
   "cols": {
    "lenName": 16,
    "lenType": 16,
    "lenVar": 40
   },
   "kernels_config": {
    "python": {
     "delete_cmd_postfix": "",
     "delete_cmd_prefix": "del ",
     "library": "var_list.py",
     "varRefreshCmd": "print(var_dic_list())"
    },
    "r": {
     "delete_cmd_postfix": ") ",
     "delete_cmd_prefix": "rm(",
     "library": "var_list.r",
     "varRefreshCmd": "cat(var_dic_list()) "
    }
   },
   "types_to_exclude": [
    "module",
    "function",
    "builtin_function_or_method",
    "instance",
    "_Feature"
   ],
   "window_display": false
  }
 },
 "nbformat": 4,
 "nbformat_minor": 5
}
