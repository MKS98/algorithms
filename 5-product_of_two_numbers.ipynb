{
 "cells": [
  {
   "cell_type": "code",
   "execution_count": 1,
   "id": "ff205f38",
   "metadata": {
    "ExecuteTime": {
     "end_time": "2022-11-20T07:08:22.812614Z",
     "start_time": "2022-11-20T07:08:22.800621Z"
    }
   },
   "outputs": [],
   "source": [
    "def recursive_multiply(x, y):\n",
    "    if y == 0:\n",
    "        return 0\n",
    "    return x + recursive_multiply(x, y-1)"
   ]
  },
  {
   "cell_type": "code",
   "execution_count": 6,
   "id": "ba85c8e6",
   "metadata": {
    "ExecuteTime": {
     "end_time": "2022-11-20T07:07:32.970394Z",
     "start_time": "2022-11-20T07:07:32.959401Z"
    }
   },
   "outputs": [],
   "source": [
    "x, y = 50000, 3000"
   ]
  },
  {
   "cell_type": "code",
   "execution_count": null,
   "id": "2b3ca6a7",
   "metadata": {
    "ExecuteTime": {
     "start_time": "2022-11-20T07:07:33.563Z"
    }
   },
   "outputs": [],
   "source": [
    "print(x*y)\n",
    "print(recursive_multiply(x, y))"
   ]
  },
  {
   "cell_type": "code",
   "execution_count": null,
   "id": "29e54a8f",
   "metadata": {},
   "outputs": [],
   "source": []
  }
 ],
 "metadata": {
  "kernelspec": {
   "display_name": "Python 3 (ipykernel)",
   "language": "python",
   "name": "python3"
  },
  "language_info": {
   "codemirror_mode": {
    "name": "ipython",
    "version": 3
   },
   "file_extension": ".py",
   "mimetype": "text/x-python",
   "name": "python",
   "nbconvert_exporter": "python",
   "pygments_lexer": "ipython3",
   "version": "3.9.7"
  },
  "varInspector": {
   "cols": {
    "lenName": 16,
    "lenType": 16,
    "lenVar": 40
   },
   "kernels_config": {
    "python": {
     "delete_cmd_postfix": "",
     "delete_cmd_prefix": "del ",
     "library": "var_list.py",
     "varRefreshCmd": "print(var_dic_list())"
    },
    "r": {
     "delete_cmd_postfix": ") ",
     "delete_cmd_prefix": "rm(",
     "library": "var_list.r",
     "varRefreshCmd": "cat(var_dic_list()) "
    }
   },
   "types_to_exclude": [
    "module",
    "function",
    "builtin_function_or_method",
    "instance",
    "_Feature"
   ],
   "window_display": false
  }
 },
 "nbformat": 4,
 "nbformat_minor": 5
}
