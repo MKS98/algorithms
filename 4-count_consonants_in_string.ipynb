{
 "cells": [
  {
   "cell_type": "code",
   "execution_count": 88,
   "id": "f56487cf",
   "metadata": {
    "ExecuteTime": {
     "end_time": "2022-11-18T02:41:32.699812Z",
     "start_time": "2022-11-18T02:41:32.681237Z"
    }
   },
   "outputs": [],
   "source": [
    "s1 = 'abc de'\n",
    "s2 = 'LuCiDProGrAmMiNG'\n",
    "vowels = 'aeiou'"
   ]
  },
  {
   "cell_type": "code",
   "execution_count": 48,
   "id": "485260f3",
   "metadata": {
    "ExecuteTime": {
     "end_time": "2022-11-18T02:24:36.747543Z",
     "start_time": "2022-11-18T02:24:36.734548Z"
    }
   },
   "outputs": [],
   "source": [
    "def count_iterative(s):\n",
    "    vowels = 'aeiou'\n",
    "    s = s.replace(' ', '').lower()\n",
    "    count = 0\n",
    "    for i in s:\n",
    "        if i not in vowels and i.isalpha():\n",
    "            count += 1\n",
    "    return count"
   ]
  },
  {
   "cell_type": "code",
   "execution_count": 49,
   "id": "ffb1a002",
   "metadata": {
    "ExecuteTime": {
     "end_time": "2022-11-18T02:24:41.770513Z",
     "start_time": "2022-11-18T02:24:41.758520Z"
    }
   },
   "outputs": [
    {
     "name": "stdout",
     "output_type": "stream",
     "text": [
      "11\n",
      "3\n"
     ]
    }
   ],
   "source": [
    "print(count_iterative(s2))\n",
    "print(count_iterative(s1))"
   ]
  },
  {
   "cell_type": "code",
   "execution_count": 74,
   "id": "8dde3b03",
   "metadata": {
    "ExecuteTime": {
     "end_time": "2022-11-18T02:38:46.506053Z",
     "start_time": "2022-11-18T02:38:46.488062Z"
    }
   },
   "outputs": [],
   "source": [
    "def count_recursive(s):\n",
    "    vowels = 'aeiou'\n",
    "#     s = s.replace(' ', '').lower()\n",
    "    if s == '':\n",
    "        return 0\n",
    "    if s[0].lower() not in vowels and s[0].isalpha():\n",
    "        return 1 + count_recursive(s[1:])\n",
    "    else:\n",
    "        return count_recursive(s[1:])"
   ]
  },
  {
   "cell_type": "code",
   "execution_count": 94,
   "id": "2874946e",
   "metadata": {
    "ExecuteTime": {
     "end_time": "2022-11-18T02:54:30.983770Z",
     "start_time": "2022-11-18T02:54:30.963913Z"
    }
   },
   "outputs": [],
   "source": [
    "## count_recursive debugging\n",
    "# s1 debugging\n",
    "# abcde ---> s[0] = a --> return s[1:] which is bcde\n",
    "# bcde --> s[0] = b --> return 1 + s[1:] which is cde\n",
    "# cde --> s[0] = c --> return 1 + 1 + s[1:] which is de\n",
    "# de --> s[0] = d --> return 1 + 1 + 1 + s[1:] which is e\n",
    "# e --> s[0] = e --> return 3 + s[1:] which is ''\n",
    "# '' return 0"
   ]
  },
  {
   "cell_type": "code",
   "execution_count": 75,
   "id": "184c503d",
   "metadata": {
    "ExecuteTime": {
     "end_time": "2022-11-18T02:38:47.284783Z",
     "start_time": "2022-11-18T02:38:47.272788Z"
    }
   },
   "outputs": [
    {
     "name": "stdout",
     "output_type": "stream",
     "text": [
      "11\n",
      "3\n"
     ]
    }
   ],
   "source": [
    "print(count_recursive(s2))\n",
    "print(count_recursive(s1))"
   ]
  }
 ],
 "metadata": {
  "kernelspec": {
   "display_name": "Python 3 (ipykernel)",
   "language": "python",
   "name": "python3"
  },
  "language_info": {
   "codemirror_mode": {
    "name": "ipython",
    "version": 3
   },
   "file_extension": ".py",
   "mimetype": "text/x-python",
   "name": "python",
   "nbconvert_exporter": "python",
   "pygments_lexer": "ipython3",
   "version": "3.9.7"
  },
  "varInspector": {
   "cols": {
    "lenName": 16,
    "lenType": 16,
    "lenVar": 40
   },
   "kernels_config": {
    "python": {
     "delete_cmd_postfix": "",
     "delete_cmd_prefix": "del ",
     "library": "var_list.py",
     "varRefreshCmd": "print(var_dic_list())"
    },
    "r": {
     "delete_cmd_postfix": ") ",
     "delete_cmd_prefix": "rm(",
     "library": "var_list.r",
     "varRefreshCmd": "cat(var_dic_list()) "
    }
   },
   "types_to_exclude": [
    "module",
    "function",
    "builtin_function_or_method",
    "instance",
    "_Feature"
   ],
   "window_display": false
  }
 },
 "nbformat": 4,
 "nbformat_minor": 5
}
