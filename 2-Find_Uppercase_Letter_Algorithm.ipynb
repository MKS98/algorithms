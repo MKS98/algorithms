{
 "cells": [
  {
   "cell_type": "markdown",
   "id": "407bcd8f",
   "metadata": {},
   "source": [
    "# Find Uppercase Letter Algorithm"
   ]
  },
  {
   "cell_type": "code",
   "execution_count": 1,
   "id": "390412ee",
   "metadata": {
    "ExecuteTime": {
     "end_time": "2022-10-06T18:16:48.789262Z",
     "start_time": "2022-10-06T18:16:48.774100Z"
    }
   },
   "outputs": [],
   "source": [
    "str1 = 'lucidProgramming'\n",
    "str2 = 'LucidProgramming'\n",
    "str3 = 'lucidprogramming'"
   ]
  },
  {
   "cell_type": "markdown",
   "id": "dfe75c10",
   "metadata": {},
   "source": [
    "#### Iterative function"
   ]
  },
  {
   "cell_type": "code",
   "execution_count": 2,
   "id": "166dddfc",
   "metadata": {
    "ExecuteTime": {
     "end_time": "2022-09-17T03:19:32.015531Z",
     "start_time": "2022-09-17T03:19:32.003533Z"
    }
   },
   "outputs": [],
   "source": [
    "def find_uppercase_iterative(input_str):\n",
    "    for i in range(len(input_str)):\n",
    "        if input_str[i].isupper():\n",
    "            return input_str[i]\n",
    "    return 'No uppercase character found'"
   ]
  },
  {
   "cell_type": "code",
   "execution_count": 3,
   "id": "157e91dc",
   "metadata": {
    "ExecuteTime": {
     "end_time": "2022-09-17T03:19:54.634852Z",
     "start_time": "2022-09-17T03:19:54.626854Z"
    }
   },
   "outputs": [
    {
     "name": "stdout",
     "output_type": "stream",
     "text": [
      "P\n",
      "L\n",
      "No uppercase character found\n"
     ]
    }
   ],
   "source": [
    "print(find_uppercase_iterative(str1))\n",
    "print(find_uppercase_iterative(str2))\n",
    "print(find_uppercase_iterative(str3))"
   ]
  },
  {
   "cell_type": "markdown",
   "id": "b323cd27",
   "metadata": {},
   "source": [
    "#### Recursive function"
   ]
  },
  {
   "cell_type": "code",
   "execution_count": 4,
   "id": "e62435a4",
   "metadata": {
    "ExecuteTime": {
     "end_time": "2022-09-17T03:28:39.913556Z",
     "start_time": "2022-09-17T03:28:39.904561Z"
    }
   },
   "outputs": [],
   "source": [
    "def find_uppercase_recursive(input_str, idx=0):\n",
    "    if input_str[idx].isupper():\n",
    "        return input_str[idx]\n",
    "    if idx == len(input_str)-1:\n",
    "        return 'No uppercase character found'\n",
    "    return find_uppercase_recursive(input_str, idx+1)"
   ]
  },
  {
   "cell_type": "code",
   "execution_count": 5,
   "id": "c8099347",
   "metadata": {
    "ExecuteTime": {
     "end_time": "2022-09-17T03:29:02.479073Z",
     "start_time": "2022-09-17T03:29:02.464082Z"
    }
   },
   "outputs": [
    {
     "name": "stdout",
     "output_type": "stream",
     "text": [
      "P\n",
      "L\n",
      "No uppercase character found\n"
     ]
    }
   ],
   "source": [
    "print(find_uppercase_recursive(str1))\n",
    "print(find_uppercase_recursive(str2))\n",
    "print(find_uppercase_recursive(str3))"
   ]
  },
  {
   "cell_type": "code",
   "execution_count": 5,
   "id": "63261c36",
   "metadata": {
    "ExecuteTime": {
     "end_time": "2022-10-06T18:25:20.338119Z",
     "start_time": "2022-10-06T18:25:20.322478Z"
    }
   },
   "outputs": [],
   "source": [
    "def recursive(s, idx=0):\n",
    "    if idx == len(s)-1:\n",
    "        return False\n",
    "    if s[idx].isupper():\n",
    "        return s[idx]       \n",
    "    return recursive(s, idx+1)"
   ]
  },
  {
   "cell_type": "code",
   "execution_count": null,
   "id": "3083d047",
   "metadata": {},
   "outputs": [],
   "source": [
    "print(recursive(str1))\n",
    "print(recursive(str1))\n"
   ]
  }
 ],
 "metadata": {
  "kernelspec": {
   "display_name": "Python 3 (ipykernel)",
   "language": "python",
   "name": "python3"
  },
  "language_info": {
   "codemirror_mode": {
    "name": "ipython",
    "version": 3
   },
   "file_extension": ".py",
   "mimetype": "text/x-python",
   "name": "python",
   "nbconvert_exporter": "python",
   "pygments_lexer": "ipython3",
   "version": "3.9.7"
  },
  "varInspector": {
   "cols": {
    "lenName": 16,
    "lenType": 16,
    "lenVar": 40
   },
   "kernels_config": {
    "python": {
     "delete_cmd_postfix": "",
     "delete_cmd_prefix": "del ",
     "library": "var_list.py",
     "varRefreshCmd": "print(var_dic_list())"
    },
    "r": {
     "delete_cmd_postfix": ") ",
     "delete_cmd_prefix": "rm(",
     "library": "var_list.r",
     "varRefreshCmd": "cat(var_dic_list()) "
    }
   },
   "types_to_exclude": [
    "module",
    "function",
    "builtin_function_or_method",
    "instance",
    "_Feature"
   ],
   "window_display": false
  }
 },
 "nbformat": 4,
 "nbformat_minor": 5
}
